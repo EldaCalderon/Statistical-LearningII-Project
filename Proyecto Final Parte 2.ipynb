{
 "cells": [
  {
   "cell_type": "markdown",
   "metadata": {},
   "source": [
    "### **Nombre:** Elda Magally Calderón Motta\n",
    "### **Carné:** 16003182\n",
    "### **Sección:** Virtual"
   ]
  },
  {
   "cell_type": "markdown",
   "metadata": {},
   "source": [
    "# Proyecto Final Statistical Learning II"
   ]
  },
  {
   "cell_type": "code",
   "execution_count": 2,
   "metadata": {},
   "outputs": [],
   "source": [
    "import tensorflow as tf\n",
    "from tensorflow import keras\n",
    "\n",
    "import numpy as np\n",
    "import matplotlib.pyplot as plt"
   ]
  },
  {
   "cell_type": "code",
   "execution_count": 3,
   "metadata": {},
   "outputs": [],
   "source": [
    "if tf.__version__.startswith(\"2.\"):\n",
    "  import tensorflow.compat.v1 as tf\n",
    "  tf.compat.v1.disable_v2_behavior()\n",
    "  tf.compat.v1.disable_eager_execution()"
   ]
  },
  {
   "cell_type": "code",
   "execution_count": 4,
   "metadata": {},
   "outputs": [],
   "source": [
    "import numpy as np\n",
    "import pandas as pd\n",
    "import sklearn as sl\n",
    "from sklearn.model_selection import train_test_split\n",
    "import matplotlib.pyplot as plt\n",
    "from sklearn.metrics import accuracy_score\n",
    "from sklearn.metrics import precision_score\n",
    "from sklearn.metrics import recall_score\n",
    "from sklearn.metrics import f1_score\n",
    "from sklearn.metrics import balanced_accuracy_score\n",
    "from sklearn import svm\n",
    "from sklearn.metrics import classification_report, confusion_matrix\n",
    "from PIL import Image\n",
    "from scipy import stats"
   ]
  },
  {
   "cell_type": "markdown",
   "metadata": {},
   "source": [
    "# Segunda Parte - Convolutional Network"
   ]
  },
  {
   "cell_type": "code",
   "execution_count": 6,
   "metadata": {
    "colab": {},
    "colab_type": "code",
    "id": "uiDv5JTDy3d5"
   },
   "outputs": [],
   "source": [
    "from keras.models import Sequential\n",
    "from keras.models import Model\n",
    "from keras.layers import Dense \n",
    "from keras.layers import Conv2D\n",
    "from keras.layers import MaxPooling2D\n",
    "from keras.layers import Flatten\n",
    "from keras.layers import Dropout, InputLayer\n",
    "from keras.preprocessing import image\n",
    "from keras.applications.vgg16 import VGG16\n",
    "from keras.optimizers import Adam\n",
    "from tensorflow.keras import regularizers\n",
    "from keras.layers.normalization import BatchNormalization\n",
    "from keras.regularizers import l2, l1, l1_l2"
   ]
  },
  {
   "cell_type": "markdown",
   "metadata": {},
   "source": [
    "# Planteamiento Inicial\n",
    "\n",
    "El problema a tratar en este experimento es de clasificación con imágenes a color. El dataset es de fotografías de mini figuras de Lego con personajes de Marvel, Star Wars y Harry Potter, habiendo 4 clases: Spiderman, Yoda, Harry Potter y Luke Skywalker. El dataset esta separado en 3: training, validation y test, cada uno de estos cuenta con una cierta cantidad de imágenes para cada clase. \n",
    "\n",
    "El dataset en sí es bastante pequeño, ya que la clase que más imágenes cuenta tiene un total de 13 fotografías contando la cantidad en training, validation y test. Por tal razón se decide desde un inicio como estrategia para resolver el problema el utilizar la técnica de Transfer Learning ya que al ser un dataset muy reducido el entrenamiento desde cero de un modelo puede no producir una adecuada generalización para datos no vistos por el mismo.\n",
    "\n",
    "Se realizará un análisis de diversas estructuras y modelos famosos y se decidirá por uno de ellos para hacer el transfer learning. Posterior se realizarán varios experimentos con ciertas modificaciones al modelo que se genere con transfer learning para configurar uno que pueda clasificar las imágenes.\n",
    "\n",
    "Se espera que con esta estrategia se logre un nivel aceptable en la clasificación. Se realizará un análisis de métricas con dataset de training y validation para evaluar los modelos generados con experimentación y hacer la selección final."
   ]
  },
  {
   "cell_type": "markdown",
   "metadata": {},
   "source": [
    "# Análisis de Papers\n",
    "\n",
    "## Densenet\n",
    "Este modelo lo que indica es que una red convolucional puede ser más más exacta y eficiente al entrenar si hay conexiones más cortas tanto en la entrada como en la salida. Lo que hace Densenet entonces es conectar cada capa a otra capa adelante, entonces el feature map de las capas precedentes es usada como input de las capas siguientes.\n",
    "\n",
    "Ventajas: mejora el desvanecimiento de gradiente, mejor propagación de características, reduce el número de parámetros.\n",
    "Esta arquitectura requiere menos parámetros y capacidad computacional, puede ser también un buena extractor de características para varias tareas de visión por computadora.\n",
    "\n",
    "## Faster R-CNN\n",
    "Arquitectura para localización de objetos, reduce el tiempo de ejecución para esta tarea. Se introduce a Region Proposal Network (RPN) que es una red convolucional fully connected que simultáneamente predice bordes y objetividad en cada posición. Estas redes RPN son usadas por Faster R-CNN para detección. \n",
    "\n",
    "En los resultados se menciona puede correr a casi un ratio de cuadros en tiempo real y con mejora en la exactitud de la detección.\n",
    "\n",
    "## Inception\n",
    "En el paper se menciona que es una arquitectura de una red convolucional profunda que establece un nuevo estado del arte para clasificación y detección. Esta mejora la utilización de las fuentes computacionales dentro de la red. \n",
    "Esta estructura tiene la característica que se usan filtros de diferentes tamaños y también emplea capas pool del tipo máximo y promedio.\n",
    "La capacidad computacional se mantiene constante mientras se permite aumentar la profundidad y ancho de la red en la arquitectura. \n",
    "\n",
    "## Lecun-99\n",
    "Arquitectura para reconocimiento de objetos. Para reconocimiento de objetos con gran variabilidad tales como caracteres escritos a mano es ventajoso alimentar alimentar al sistema directamente con imágenes mínimamente procesadas para extraer un conjunto correcto de características. \n",
    "\n",
    "Se menciona acerca del Graph Transformer Network que es usado en gráficas para representar características, objetos y sus combinaciones. Estas redes reducen la necesidad heurísticas manuales, etiquetado manual, y tuneo manual de parámetros en sistemas de reconocimiento de documentos. Un ejemplo de aplicación comercial de la red Transformer es en bancos donde puede leer millones de cheques por día. \n",
    "\n",
    "## Mask R-CNN\n",
    "Arquitectura para segmentación de objetos, esta detecta un objeto en una imagen mientras simultáneamente genera una máscara de segmentación para cada instancia. Es una extensión de Faster R-CNN que agrega una rama para predecir la máscara del objeto en paralelo con la existencia de los bordes de la caja de reconocimiento. \n",
    "\n",
    "## MobileNets\n",
    "Modelos eficientes para dispositivos móviles y aplicaciones de visión que se basa en convoluciones separables. Con este modelo se usan dos hiperparámetros que compensan la latencia y exactitud, estos permiten escoger el tamaño correcto del modelo para su aplicación con base a las restricciones del problema. Estos hiperparámetros son el width multiplier y resolution multiplier.\n",
    "\n",
    "Esta arquitectura ha mostrado buen desempeño en aplicaciones como detección de objetos, clasificación, geo-localización.\n",
    "\n",
    "## Resnet\n",
    "Es una arquitectura que facilita el entrenamiento de redes que están un poco más profundas que aquellas usadas previamente. Las capas son funciones residuales de aprendizaje con referencia a la capa de entrada, en lugar de funciones sin referencia. Estas redes referenciadas son más fáciles de optimizar y pueden ganar exactitud con la profundidad.\n",
    "\n",
    "## U-Net\n",
    "Red y estrategia de entrenamiento que usa un enfoque fuerte de aumentado de data que utiliza las muestras disponibles más eficientemente. La arquitectura consiste en una ruta para capturar contexto y una ruta expansiva de simetría que permite localización precisa. \n",
    "\n",
    "En los resultados se menciona que alcanza un buen desempeño en diferentes aplicaciones de segmentación biomédica, se necesita solo unas cuantas imágenes gracias al aumentado de data con deformaciones elásticas.\n",
    "\n",
    "## YOLO9000\n",
    "Sistema de detección de objetos en tiempo real que puede detectar más de 9000 categorías, que a su vez optimiza la clasificación. Permite predecir detecciones para clases de objetos que no tienen data etiquetada. \n",
    "Este modelo está entrenado en los dataset de ImageNet y COCO y está cerca de cerrar la brecha entre detección y clasificación.\n",
    "\n",
    "## VGG\n",
    "Arquitectura de red que incrementa la profundidad de 16 a 19 capas con filtros convolucionales pequeños de 3x3.\n",
    "Esta representación generaliza bien a otros datasets. La profundidad de la red es beneficiosa para la exactitud en la clasificación, lo que confirma su importancia en las representaciones visuales.\n",
    "\n",
    "### Análisis de VGG\n",
    "En el paper se aborda una característica importante de las redes convolucionales, su profundidad. Se realizaron experimentos fijando otros parámetros de la arquitectura e incrementando la profundidad de la misma añadiendo más redes convolucionales (más de 19) y usando filtros de 3x3 para cada capa. Se menciona como resultado un incremento en la exactitud de las arquitecturas convnets. \n",
    "\n",
    "Este modelo alcanzó un 92.7% en top-5 test accuracy en el dataset de ImageNet, que contiene más de 14 millones de fotografías pertenecientes a 1000 clases, lo cual resulta en un modelo muy eficiente para clasificación de imágenes.\n",
    "\n",
    "Como entrada tiene una capa de 224x224 para imágenes RGB, la imagen pasa a través de redes convolucionales con filtros pequeños de 3x3, con un padding de 1 y uso de capas maxpooling. Las capas ocultas tienen activación Relu.\n",
    "\n",
    "El modelo de VGG mostró en los resultados tener un buen desempeño, teniendo un error de 6.8% con el ensamble de dos modelos. Por lo cual puede ser un modelo eficiente para clasificación de imágenes a gran escala y que a su vez es bueno para generalizar en otros datasets, resultando en un desempeño comparable a otros modelos convencionales como LeCun.\n",
    "Entre los resultados que se muestran en el paper está la Generalización de Características profundas, donde se evalúa a VGG como extractor de características frente a otras arquitecturas como GoogLeNet, entre los resultados se muestra que VGG obtiene mejores resultados en la generalización de otros datasets.\n",
    "\n",
    "### Elección del Modelo VGG para Resolver el Problema\n",
    "Por tanto, dado la naturaleza del problema a resolver en esta parte del proyecto donde se pretende realizar la clasificación de imágenes de Lego contando con un dataset muy reducido se elige usar el modelo de VGG como extractor de características para realizar transfer learning. \n",
    "\n",
    "En el paper puede leerse que esta arquitectura tiene buen desempeño para problemas de clasificación y como extractor de características vs a otros, por lo que se espera sea una buena opción como modelo de entrada para realizar clasificación y posterior a este realizar algunos experimentos para evaluar que configuración adicional puede funcionar mejor."
   ]
  },
  {
   "cell_type": "markdown",
   "metadata": {},
   "source": [
    "### Directorios"
   ]
  },
  {
   "cell_type": "code",
   "execution_count": 7,
   "metadata": {
    "colab": {},
    "colab_type": "code",
    "id": "GGT9O7zmI_J7"
   },
   "outputs": [],
   "source": [
    "dataTrain = 'C:/Users/Elda Calderon/OneDrive/Data Science/3 Trimestre/Statistical Learning II/Proyecto/Parte 2/training_set'\n",
    "dataTest = 'C:/Users/Elda Calderon/OneDrive/Data Science/3 Trimestre/Statistical Learning II/Proyecto/Parte 2/test_set'\n",
    "dataValidation = 'C:/Users/Elda Calderon/OneDrive/Data Science/3 Trimestre/Statistical Learning II/Proyecto/Parte 2/validation_set'"
   ]
  },
  {
   "cell_type": "markdown",
   "metadata": {},
   "source": [
    "### Pre-procesamiento de Datos"
   ]
  },
  {
   "cell_type": "code",
   "execution_count": 8,
   "metadata": {
    "colab": {
     "base_uri": "https://localhost:8080/",
     "height": 51
    },
    "colab_type": "code",
    "id": "eEHDflItFTOD",
    "outputId": "8e573edc-9b63-4ff5-9a1e-ade661fbcafa"
   },
   "outputs": [
    {
     "name": "stdout",
     "output_type": "stream",
     "text": [
      "Found 24 images belonging to 4 classes.\n",
      "Found 12 images belonging to 4 classes.\n",
      "Found 11 images belonging to 4 classes.\n"
     ]
    }
   ],
   "source": [
    "# Formateo de Datos\n",
    "from keras.preprocessing.image import ImageDataGenerator\n",
    "\n",
    "# Pre-procesamiento para train con aumentation\n",
    "train_datagen = ImageDataGenerator(\n",
    "    rescale = 1./255., \n",
    "    shear_range = 0.4,\n",
    "    zoom_range = 0.4,\n",
    "    horizontal_flip = True\n",
    ")\n",
    "\n",
    "# Pre-procesamiento para test\n",
    "test_datagen = ImageDataGenerator(rescale = 1./255.)\n",
    "\n",
    "# Pre-procesamiento para validation\n",
    "validation_datagen = ImageDataGenerator(rescale = 1./255.)\n",
    "\n",
    "\n",
    "# Configuracion imagenes de entrada para train y test\n",
    "train_set = train_datagen.flow_from_directory(\n",
    "    dataTrain,\n",
    "    target_size = (224,224),\n",
    "    batch_size = 2,\n",
    "    class_mode = 'categorical'\n",
    ") \n",
    "\n",
    "validation_set = validation_datagen.flow_from_directory(\n",
    "    dataTest,\n",
    "    target_size = (224,224),\n",
    "    class_mode = 'categorical'\n",
    ")\n",
    "\n",
    "test_set = test_datagen.flow_from_directory(\n",
    "    dataValidation,\n",
    "    target_size = (224,224),\n",
    "    class_mode = 'categorical'\n",
    ")\n"
   ]
  },
  {
   "cell_type": "markdown",
   "metadata": {},
   "source": [
    "## **Transfer Learning**\n",
    "\n",
    "### MODELO 1\n",
    "Para este enfoque se usará el modelo VGG16 donde las primeras 12 capas se congelarán durante el entrenamiento, es decir, los parámetros no serán entrenables en estas capas"
   ]
  },
  {
   "cell_type": "markdown",
   "metadata": {},
   "source": [
    "### Transfer Learning con VGG16"
   ]
  },
  {
   "cell_type": "code",
   "execution_count": 28,
   "metadata": {},
   "outputs": [
    {
     "name": "stdout",
     "output_type": "stream",
     "text": [
      "Model: \"vgg16\"\n",
      "_________________________________________________________________\n",
      "Layer (type)                 Output Shape              Param #   \n",
      "=================================================================\n",
      "input_3 (InputLayer)         (None, 224, 224, 3)       0         \n",
      "_________________________________________________________________\n",
      "block1_conv1 (Conv2D)        (None, 224, 224, 64)      1792      \n",
      "_________________________________________________________________\n",
      "block1_conv2 (Conv2D)        (None, 224, 224, 64)      36928     \n",
      "_________________________________________________________________\n",
      "block1_pool (MaxPooling2D)   (None, 112, 112, 64)      0         \n",
      "_________________________________________________________________\n",
      "block2_conv1 (Conv2D)        (None, 112, 112, 128)     73856     \n",
      "_________________________________________________________________\n",
      "block2_conv2 (Conv2D)        (None, 112, 112, 128)     147584    \n",
      "_________________________________________________________________\n",
      "block2_pool (MaxPooling2D)   (None, 56, 56, 128)       0         \n",
      "_________________________________________________________________\n",
      "block3_conv1 (Conv2D)        (None, 56, 56, 256)       295168    \n",
      "_________________________________________________________________\n",
      "block3_conv2 (Conv2D)        (None, 56, 56, 256)       590080    \n",
      "_________________________________________________________________\n",
      "block3_conv3 (Conv2D)        (None, 56, 56, 256)       590080    \n",
      "_________________________________________________________________\n",
      "block3_pool (MaxPooling2D)   (None, 28, 28, 256)       0         \n",
      "_________________________________________________________________\n",
      "block4_conv1 (Conv2D)        (None, 28, 28, 512)       1180160   \n",
      "_________________________________________________________________\n",
      "block4_conv2 (Conv2D)        (None, 28, 28, 512)       2359808   \n",
      "_________________________________________________________________\n",
      "block4_conv3 (Conv2D)        (None, 28, 28, 512)       2359808   \n",
      "_________________________________________________________________\n",
      "block4_pool (MaxPooling2D)   (None, 14, 14, 512)       0         \n",
      "_________________________________________________________________\n",
      "block5_conv1 (Conv2D)        (None, 14, 14, 512)       2359808   \n",
      "_________________________________________________________________\n",
      "block5_conv2 (Conv2D)        (None, 14, 14, 512)       2359808   \n",
      "_________________________________________________________________\n",
      "block5_conv3 (Conv2D)        (None, 14, 14, 512)       2359808   \n",
      "_________________________________________________________________\n",
      "block5_pool (MaxPooling2D)   (None, 7, 7, 512)         0         \n",
      "_________________________________________________________________\n",
      "flatten (Flatten)            (None, 25088)             0         \n",
      "_________________________________________________________________\n",
      "fc1 (Dense)                  (None, 4096)              102764544 \n",
      "_________________________________________________________________\n",
      "fc2 (Dense)                  (None, 4096)              16781312  \n",
      "_________________________________________________________________\n",
      "predictions (Dense)          (None, 1000)              4097000   \n",
      "=================================================================\n",
      "Total params: 138,357,544\n",
      "Trainable params: 138,357,544\n",
      "Non-trainable params: 0\n",
      "_________________________________________________________________\n"
     ]
    }
   ],
   "source": [
    "# Carga del Modelo\n",
    "vggmodel = VGG16(weights='imagenet', include_top=True) #include top true incluye parametros para convolucion y dense layers\n",
    "vggmodel.summary()"
   ]
  },
  {
   "cell_type": "code",
   "execution_count": 29,
   "metadata": {},
   "outputs": [
    {
     "name": "stdout",
     "output_type": "stream",
     "text": [
      "<keras.engine.input_layer.InputLayer object at 0x0000021904C01948>\n",
      "<keras.layers.convolutional.Conv2D object at 0x0000021904C0C048>\n",
      "<keras.layers.convolutional.Conv2D object at 0x0000021904C18BC8>\n",
      "<keras.layers.pooling.MaxPooling2D object at 0x0000021904BF4C08>\n",
      "<keras.layers.convolutional.Conv2D object at 0x0000021904C30748>\n",
      "<keras.layers.convolutional.Conv2D object at 0x0000021904C51DC8>\n",
      "<keras.layers.pooling.MaxPooling2D object at 0x0000021904CA14C8>\n",
      "<keras.layers.convolutional.Conv2D object at 0x0000021904CA1208>\n",
      "<keras.layers.convolutional.Conv2D object at 0x0000021904CBA888>\n",
      "<keras.layers.convolutional.Conv2D object at 0x0000021904CFB948>\n",
      "<keras.layers.pooling.MaxPooling2D object at 0x0000021904D39A88>\n",
      "<keras.layers.convolutional.Conv2D object at 0x0000021904D39E88>\n"
     ]
    }
   ],
   "source": [
    "# Capas con parametros no entrenables para usarse en mi modelo\n",
    "\n",
    "for layers in (vggmodel.layers)[:12]:\n",
    "    print(layers)\n",
    "    layers.trainable = False"
   ]
  },
  {
   "cell_type": "code",
   "execution_count": 30,
   "metadata": {},
   "outputs": [],
   "source": [
    "# Output del modelo\n",
    "x = vggmodel.layers[-2].output\n",
    "predictions = Dense(4, activation=\"softmax\")(x)\n",
    "model_final = Model(inputs = vggmodel.input, outputs = predictions)"
   ]
  },
  {
   "cell_type": "code",
   "execution_count": 31,
   "metadata": {},
   "outputs": [],
   "source": [
    "# Compilando el modelo\n",
    "model_final.compile(loss = \"categorical_crossentropy\", \n",
    "                    optimizer = 'Adam', \n",
    "                    metrics=[\"accuracy\"])"
   ]
  },
  {
   "cell_type": "code",
   "execution_count": 32,
   "metadata": {},
   "outputs": [
    {
     "name": "stdout",
     "output_type": "stream",
     "text": [
      "Model: \"model_3\"\n",
      "_________________________________________________________________\n",
      "Layer (type)                 Output Shape              Param #   \n",
      "=================================================================\n",
      "input_3 (InputLayer)         (None, 224, 224, 3)       0         \n",
      "_________________________________________________________________\n",
      "block1_conv1 (Conv2D)        (None, 224, 224, 64)      1792      \n",
      "_________________________________________________________________\n",
      "block1_conv2 (Conv2D)        (None, 224, 224, 64)      36928     \n",
      "_________________________________________________________________\n",
      "block1_pool (MaxPooling2D)   (None, 112, 112, 64)      0         \n",
      "_________________________________________________________________\n",
      "block2_conv1 (Conv2D)        (None, 112, 112, 128)     73856     \n",
      "_________________________________________________________________\n",
      "block2_conv2 (Conv2D)        (None, 112, 112, 128)     147584    \n",
      "_________________________________________________________________\n",
      "block2_pool (MaxPooling2D)   (None, 56, 56, 128)       0         \n",
      "_________________________________________________________________\n",
      "block3_conv1 (Conv2D)        (None, 56, 56, 256)       295168    \n",
      "_________________________________________________________________\n",
      "block3_conv2 (Conv2D)        (None, 56, 56, 256)       590080    \n",
      "_________________________________________________________________\n",
      "block3_conv3 (Conv2D)        (None, 56, 56, 256)       590080    \n",
      "_________________________________________________________________\n",
      "block3_pool (MaxPooling2D)   (None, 28, 28, 256)       0         \n",
      "_________________________________________________________________\n",
      "block4_conv1 (Conv2D)        (None, 28, 28, 512)       1180160   \n",
      "_________________________________________________________________\n",
      "block4_conv2 (Conv2D)        (None, 28, 28, 512)       2359808   \n",
      "_________________________________________________________________\n",
      "block4_conv3 (Conv2D)        (None, 28, 28, 512)       2359808   \n",
      "_________________________________________________________________\n",
      "block4_pool (MaxPooling2D)   (None, 14, 14, 512)       0         \n",
      "_________________________________________________________________\n",
      "block5_conv1 (Conv2D)        (None, 14, 14, 512)       2359808   \n",
      "_________________________________________________________________\n",
      "block5_conv2 (Conv2D)        (None, 14, 14, 512)       2359808   \n",
      "_________________________________________________________________\n",
      "block5_conv3 (Conv2D)        (None, 14, 14, 512)       2359808   \n",
      "_________________________________________________________________\n",
      "block5_pool (MaxPooling2D)   (None, 7, 7, 512)         0         \n",
      "_________________________________________________________________\n",
      "flatten (Flatten)            (None, 25088)             0         \n",
      "_________________________________________________________________\n",
      "fc1 (Dense)                  (None, 4096)              102764544 \n",
      "_________________________________________________________________\n",
      "fc2 (Dense)                  (None, 4096)              16781312  \n",
      "_________________________________________________________________\n",
      "dense_3 (Dense)              (None, 4)                 16388     \n",
      "=================================================================\n",
      "Total params: 134,276,932\n",
      "Trainable params: 131,361,284\n",
      "Non-trainable params: 2,915,648\n",
      "_________________________________________________________________\n"
     ]
    }
   ],
   "source": [
    "model_final.summary()"
   ]
  },
  {
   "cell_type": "code",
   "execution_count": 33,
   "metadata": {},
   "outputs": [
    {
     "name": "stdout",
     "output_type": "stream",
     "text": [
      "Epoch 1/10\n",
      "2/2 [==============================] - 57s 29s/step - loss: 77.6224 - accuracy: 0.2708 - val_loss: 15.4753 - val_accuracy: 0.2500\n",
      "Epoch 2/10\n",
      "2/2 [==============================] - 63s 32s/step - loss: 14.3169 - accuracy: 0.2083 - val_loss: 11.4468 - val_accuracy: 0.2500\n",
      "Epoch 3/10\n",
      "2/2 [==============================] - 60s 30s/step - loss: 18.0110 - accuracy: 0.2708 - val_loss: 5.3375 - val_accuracy: 0.2500\n",
      "Epoch 4/10\n",
      "2/2 [==============================] - 62s 31s/step - loss: 5.3130 - accuracy: 0.2500 - val_loss: 10.6411 - val_accuracy: 0.2500\n",
      "Epoch 5/10\n",
      "2/2 [==============================] - 62s 31s/step - loss: 7.7010 - accuracy: 0.2292 - val_loss: 4.6618 - val_accuracy: 0.2500\n",
      "Epoch 6/10\n",
      "2/2 [==============================] - 61s 30s/step - loss: 4.4320 - accuracy: 0.2500 - val_loss: 6.4600 - val_accuracy: 0.2500\n",
      "Epoch 7/10\n",
      "2/2 [==============================] - 62s 31s/step - loss: 4.3484 - accuracy: 0.2917 - val_loss: 1.7923 - val_accuracy: 0.2500\n",
      "Epoch 8/10\n",
      "2/2 [==============================] - 58s 29s/step - loss: 1.8530 - accuracy: 0.2292 - val_loss: 1.8479 - val_accuracy: 0.2500\n",
      "Epoch 9/10\n",
      "2/2 [==============================] - 59s 30s/step - loss: 1.8635 - accuracy: 0.2500 - val_loss: 1.7260 - val_accuracy: 0.2500\n",
      "Epoch 10/10\n",
      "2/2 [==============================] - 57s 29s/step - loss: 1.5238 - accuracy: 0.2500 - val_loss: 1.4445 - val_accuracy: 0.2500\n"
     ]
    }
   ],
   "source": [
    "history1 = model_final.fit_generator(generator= train_set, \n",
    "                          steps_per_epoch= 2, \n",
    "                          epochs= 10, \n",
    "                          validation_data= validation_set, \n",
    "                          validation_steps=1)"
   ]
  },
  {
   "cell_type": "code",
   "execution_count": 38,
   "metadata": {},
   "outputs": [
    {
     "data": {
      "image/png": "[encoded data removed]",
      "text/plain": [
       "<Figure size 432x288 with 1 Axes>"
      ]
     },
     "metadata": {
      "needs_background": "light"
     },
     "output_type": "display_data"
    },
    {
     "data": {
      "image/png": "[encoded data removed]",
      "text/plain": [
       "<Figure size 432x288 with 1 Axes>"
      ]
     },
     "metadata": {
      "needs_background": "light"
     },
     "output_type": "display_data"
    }
   ],
   "source": [
    "plt.plot(history1.history['accuracy'])\n",
    "plt.plot(history1.history['val_accuracy'])\n",
    "plt.title('model accuracy')\n",
    "plt.ylabel('accuracy')\n",
    "plt.xlabel('epoch')\n",
    "plt.legend(['train', 'validation'], loc='upper left')\n",
    "plt.show()\n",
    "\n",
    "plt.plot(history1.history['loss'])\n",
    "plt.plot(history1.history['val_loss'])\n",
    "plt.title('model loss')\n",
    "plt.ylabel('loss')\n",
    "plt.xlabel('epoch')\n",
    "plt.legend(['train', 'validation'], loc='upper left')\n",
    "plt.show()"
   ]
  },
  {
   "cell_type": "markdown",
   "metadata": {},
   "source": [
    "En este modelo no se modificó la estructura de VGG16, solo se configuró que capas son entrenables y cuales no. Puede verse que este modelo no funciona ya que no hay una mejora en el accuracy"
   ]
  },
  {
   "cell_type": "markdown",
   "metadata": {},
   "source": [
    "### MODELO 2\n",
    "\n",
    "Para este modelo se usará a VGG16 donde todos los bloques convolucionales se congelarán durante el entrenamiento, la parte que corresponde a una red MLP se modificará. Posterior a la red convolucional se adicionarán 2 capas ocultas fully connected con 512 neuronas y activación Relu cada una. Para evitar overfitting después de cada capa oculta se configura dropout y la capa de salida con activación Softmax al ser un problema de clasificación multivariable. \n",
    "\n",
    "Para compilar el modelo se utilizará el optimizador Adam, función de costo Categorical Cross Entropy y como métrica Accuracy."
   ]
  },
  {
   "cell_type": "code",
   "execution_count": 323,
   "metadata": {},
   "outputs": [
    {
     "name": "stdout",
     "output_type": "stream",
     "text": [
      "Model: \"vgg16\"\n",
      "_________________________________________________________________\n",
      "Layer (type)                 Output Shape              Param #   \n",
      "=================================================================\n",
      "input_32 (InputLayer)        (None, 224, 224, 3)       0         \n",
      "_________________________________________________________________\n",
      "block1_conv1 (Conv2D)        (None, 224, 224, 64)      1792      \n",
      "_________________________________________________________________\n",
      "block1_conv2 (Conv2D)        (None, 224, 224, 64)      36928     \n",
      "_________________________________________________________________\n",
      "block1_pool (MaxPooling2D)   (None, 112, 112, 64)      0         \n",
      "_________________________________________________________________\n",
      "block2_conv1 (Conv2D)        (None, 112, 112, 128)     73856     \n",
      "_________________________________________________________________\n",
      "block2_conv2 (Conv2D)        (None, 112, 112, 128)     147584    \n",
      "_________________________________________________________________\n",
      "block2_pool (MaxPooling2D)   (None, 56, 56, 128)       0         \n",
      "_________________________________________________________________\n",
      "block3_conv1 (Conv2D)        (None, 56, 56, 256)       295168    \n",
      "_________________________________________________________________\n",
      "block3_conv2 (Conv2D)        (None, 56, 56, 256)       590080    \n",
      "_________________________________________________________________\n",
      "block3_conv3 (Conv2D)        (None, 56, 56, 256)       590080    \n",
      "_________________________________________________________________\n",
      "block3_pool (MaxPooling2D)   (None, 28, 28, 256)       0         \n",
      "_________________________________________________________________\n",
      "block4_conv1 (Conv2D)        (None, 28, 28, 512)       1180160   \n",
      "_________________________________________________________________\n",
      "block4_conv2 (Conv2D)        (None, 28, 28, 512)       2359808   \n",
      "_________________________________________________________________\n",
      "block4_conv3 (Conv2D)        (None, 28, 28, 512)       2359808   \n",
      "_________________________________________________________________\n",
      "block4_pool (MaxPooling2D)   (None, 14, 14, 512)       0         \n",
      "_________________________________________________________________\n",
      "block5_conv1 (Conv2D)        (None, 14, 14, 512)       2359808   \n",
      "_________________________________________________________________\n",
      "block5_conv2 (Conv2D)        (None, 14, 14, 512)       2359808   \n",
      "_________________________________________________________________\n",
      "block5_conv3 (Conv2D)        (None, 14, 14, 512)       2359808   \n",
      "_________________________________________________________________\n",
      "block5_pool (MaxPooling2D)   (None, 7, 7, 512)         0         \n",
      "=================================================================\n",
      "Total params: 14,714,688\n",
      "Trainable params: 14,714,688\n",
      "Non-trainable params: 0\n",
      "_________________________________________________________________\n"
     ]
    }
   ],
   "source": [
    "# Carga del Modelo\n",
    "vggmodel2 = VGG16(weights='imagenet', include_top=False, input_shape = (224, 224, 3)) \n",
    "vggmodel2.summary()"
   ]
  },
  {
   "cell_type": "code",
   "execution_count": 324,
   "metadata": {},
   "outputs": [],
   "source": [
    "output = vggmodel2.layers[-1].output\n",
    "output = Flatten()(output)\n",
    "vgg_model2 = Model(inputs = vggmodel2.input, outputs = output)\n",
    "\n",
    "vgg_model2.trainable = False\n",
    "for layer in vgg_model2.layers:\n",
    "    layer.trainable = False"
   ]
  },
  {
   "cell_type": "code",
   "execution_count": 325,
   "metadata": {},
   "outputs": [
    {
     "data": {
      "text/html": [
       "<div>\n",
       "<style scoped>\n",
       "    .dataframe tbody tr th:only-of-type {\n",
       "        vertical-align: middle;\n",
       "    }\n",
       "\n",
       "    .dataframe tbody tr th {\n",
       "        vertical-align: top;\n",
       "    }\n",
       "\n",
       "    .dataframe thead th {\n",
       "        text-align: right;\n",
       "    }\n",
       "</style>\n",
       "<table border=\"1\" class=\"dataframe\">\n",
       "  <thead>\n",
       "    <tr style=\"text-align: right;\">\n",
       "      <th></th>\n",
       "      <th>Layer Type</th>\n",
       "      <th>Layer Name</th>\n",
       "      <th>Layer Trainable</th>\n",
       "    </tr>\n",
       "  </thead>\n",
       "  <tbody>\n",
       "    <tr>\n",
       "      <th>0</th>\n",
       "      <td>&lt;keras.engine.input_layer.InputLayer object at 0x0000021B4A112208&gt;</td>\n",
       "      <td>input_32</td>\n",
       "      <td>False</td>\n",
       "    </tr>\n",
       "    <tr>\n",
       "      <th>1</th>\n",
       "      <td>&lt;keras.layers.convolutional.Conv2D object at 0x0000021B4A1302C8&gt;</td>\n",
       "      <td>block1_conv1</td>\n",
       "      <td>False</td>\n",
       "    </tr>\n",
       "    <tr>\n",
       "      <th>2</th>\n",
       "      <td>&lt;keras.layers.convolutional.Conv2D object at 0x0000021B4A112A88&gt;</td>\n",
       "      <td>block1_conv2</td>\n",
       "      <td>False</td>\n",
       "    </tr>\n",
       "    <tr>\n",
       "      <th>3</th>\n",
       "      <td>&lt;keras.layers.pooling.MaxPooling2D object at 0x0000021B4A0F9788&gt;</td>\n",
       "      <td>block1_pool</td>\n",
       "      <td>False</td>\n",
       "    </tr>\n",
       "    <tr>\n",
       "      <th>4</th>\n",
       "      <td>&lt;keras.layers.convolutional.Conv2D object at 0x0000021B4A074E88&gt;</td>\n",
       "      <td>block2_conv1</td>\n",
       "      <td>False</td>\n",
       "    </tr>\n",
       "    <tr>\n",
       "      <th>5</th>\n",
       "      <td>&lt;keras.layers.convolutional.Conv2D object at 0x0000021B36C78F48&gt;</td>\n",
       "      <td>block2_conv2</td>\n",
       "      <td>False</td>\n",
       "    </tr>\n",
       "    <tr>\n",
       "      <th>6</th>\n",
       "      <td>&lt;keras.layers.pooling.MaxPooling2D object at 0x0000021B4A3135C8&gt;</td>\n",
       "      <td>block2_pool</td>\n",
       "      <td>False</td>\n",
       "    </tr>\n",
       "    <tr>\n",
       "      <th>7</th>\n",
       "      <td>&lt;keras.layers.convolutional.Conv2D object at 0x0000021B4A127148&gt;</td>\n",
       "      <td>block3_conv1</td>\n",
       "      <td>False</td>\n",
       "    </tr>\n",
       "    <tr>\n",
       "      <th>8</th>\n",
       "      <td>&lt;keras.layers.convolutional.Conv2D object at 0x0000021B50B7D388&gt;</td>\n",
       "      <td>block3_conv2</td>\n",
       "      <td>False</td>\n",
       "    </tr>\n",
       "    <tr>\n",
       "      <th>9</th>\n",
       "      <td>&lt;keras.layers.convolutional.Conv2D object at 0x0000021B50BA7F48&gt;</td>\n",
       "      <td>block3_conv3</td>\n",
       "      <td>False</td>\n",
       "    </tr>\n",
       "    <tr>\n",
       "      <th>10</th>\n",
       "      <td>&lt;keras.layers.pooling.MaxPooling2D object at 0x0000021B50BC0C08&gt;</td>\n",
       "      <td>block3_pool</td>\n",
       "      <td>False</td>\n",
       "    </tr>\n",
       "    <tr>\n",
       "      <th>11</th>\n",
       "      <td>&lt;keras.layers.convolutional.Conv2D object at 0x0000021B50BCE788&gt;</td>\n",
       "      <td>block4_conv1</td>\n",
       "      <td>False</td>\n",
       "    </tr>\n",
       "    <tr>\n",
       "      <th>12</th>\n",
       "      <td>&lt;keras.layers.convolutional.Conv2D object at 0x0000021B36CAB5C8&gt;</td>\n",
       "      <td>block4_conv2</td>\n",
       "      <td>False</td>\n",
       "    </tr>\n",
       "    <tr>\n",
       "      <th>13</th>\n",
       "      <td>&lt;keras.layers.convolutional.Conv2D object at 0x0000021B4A131988&gt;</td>\n",
       "      <td>block4_conv3</td>\n",
       "      <td>False</td>\n",
       "    </tr>\n",
       "    <tr>\n",
       "      <th>14</th>\n",
       "      <td>&lt;keras.layers.pooling.MaxPooling2D object at 0x0000021B4A13FD48&gt;</td>\n",
       "      <td>block4_pool</td>\n",
       "      <td>False</td>\n",
       "    </tr>\n",
       "    <tr>\n",
       "      <th>15</th>\n",
       "      <td>&lt;keras.layers.convolutional.Conv2D object at 0x0000021B4A141088&gt;</td>\n",
       "      <td>block5_conv1</td>\n",
       "      <td>False</td>\n",
       "    </tr>\n",
       "    <tr>\n",
       "      <th>16</th>\n",
       "      <td>&lt;keras.layers.convolutional.Conv2D object at 0x0000021B4A13A148&gt;</td>\n",
       "      <td>block5_conv2</td>\n",
       "      <td>False</td>\n",
       "    </tr>\n",
       "    <tr>\n",
       "      <th>17</th>\n",
       "      <td>&lt;keras.layers.convolutional.Conv2D object at 0x0000021B4A0D3548&gt;</td>\n",
       "      <td>block5_conv3</td>\n",
       "      <td>False</td>\n",
       "    </tr>\n",
       "    <tr>\n",
       "      <th>18</th>\n",
       "      <td>&lt;keras.layers.pooling.MaxPooling2D object at 0x0000021B4A0B7B88&gt;</td>\n",
       "      <td>block5_pool</td>\n",
       "      <td>False</td>\n",
       "    </tr>\n",
       "    <tr>\n",
       "      <th>19</th>\n",
       "      <td>&lt;keras.layers.core.Flatten object at 0x0000021B3AFDD148&gt;</td>\n",
       "      <td>flatten_11</td>\n",
       "      <td>False</td>\n",
       "    </tr>\n",
       "  </tbody>\n",
       "</table>\n",
       "</div>"
      ],
      "text/plain": [
       "                                                            Layer Type  \\\n",
       "0   <keras.engine.input_layer.InputLayer object at 0x0000021B4A112208>   \n",
       "1     <keras.layers.convolutional.Conv2D object at 0x0000021B4A1302C8>   \n",
       "2     <keras.layers.convolutional.Conv2D object at 0x0000021B4A112A88>   \n",
       "3     <keras.layers.pooling.MaxPooling2D object at 0x0000021B4A0F9788>   \n",
       "4     <keras.layers.convolutional.Conv2D object at 0x0000021B4A074E88>   \n",
       "5     <keras.layers.convolutional.Conv2D object at 0x0000021B36C78F48>   \n",
       "6     <keras.layers.pooling.MaxPooling2D object at 0x0000021B4A3135C8>   \n",
       "7     <keras.layers.convolutional.Conv2D object at 0x0000021B4A127148>   \n",
       "8     <keras.layers.convolutional.Conv2D object at 0x0000021B50B7D388>   \n",
       "9     <keras.layers.convolutional.Conv2D object at 0x0000021B50BA7F48>   \n",
       "10    <keras.layers.pooling.MaxPooling2D object at 0x0000021B50BC0C08>   \n",
       "11    <keras.layers.convolutional.Conv2D object at 0x0000021B50BCE788>   \n",
       "12    <keras.layers.convolutional.Conv2D object at 0x0000021B36CAB5C8>   \n",
       "13    <keras.layers.convolutional.Conv2D object at 0x0000021B4A131988>   \n",
       "14    <keras.layers.pooling.MaxPooling2D object at 0x0000021B4A13FD48>   \n",
       "15    <keras.layers.convolutional.Conv2D object at 0x0000021B4A141088>   \n",
       "16    <keras.layers.convolutional.Conv2D object at 0x0000021B4A13A148>   \n",
       "17    <keras.layers.convolutional.Conv2D object at 0x0000021B4A0D3548>   \n",
       "18    <keras.layers.pooling.MaxPooling2D object at 0x0000021B4A0B7B88>   \n",
       "19            <keras.layers.core.Flatten object at 0x0000021B3AFDD148>   \n",
       "\n",
       "      Layer Name  Layer Trainable  \n",
       "0       input_32            False  \n",
       "1   block1_conv1            False  \n",
       "2   block1_conv2            False  \n",
       "3    block1_pool            False  \n",
       "4   block2_conv1            False  \n",
       "5   block2_conv2            False  \n",
       "6    block2_pool            False  \n",
       "7   block3_conv1            False  \n",
       "8   block3_conv2            False  \n",
       "9   block3_conv3            False  \n",
       "10   block3_pool            False  \n",
       "11  block4_conv1            False  \n",
       "12  block4_conv2            False  \n",
       "13  block4_conv3            False  \n",
       "14   block4_pool            False  \n",
       "15  block5_conv1            False  \n",
       "16  block5_conv2            False  \n",
       "17  block5_conv3            False  \n",
       "18   block5_pool            False  \n",
       "19    flatten_11            False  "
      ]
     },
     "execution_count": 325,
     "metadata": {},
     "output_type": "execute_result"
    }
   ],
   "source": [
    "import pandas as pd\n",
    "pd.set_option('max_colwidth', None)\n",
    "layers = [(layer, layer.name, layer.trainable) for layer in vgg_model2.layers]\n",
    "pd.DataFrame(layers, columns=['Layer Type', 'Layer Name', 'Layer Trainable'])    \n",
    "\n",
    "# Puede verse que toda la parte que corresponde a la red convolucional es no entrenable"
   ]
  },
  {
   "cell_type": "code",
   "execution_count": 142,
   "metadata": {},
   "outputs": [
    {
     "name": "stdout",
     "output_type": "stream",
     "text": [
      "Model: \"sequential_28\"\n",
      "_________________________________________________________________\n",
      "Layer (type)                 Output Shape              Param #   \n",
      "=================================================================\n",
      "model_9 (Model)              (None, 25088)             14714688  \n",
      "_________________________________________________________________\n",
      "dense_65 (Dense)             (None, 512)               12845568  \n",
      "_________________________________________________________________\n",
      "dropout_41 (Dropout)         (None, 512)               0         \n",
      "_________________________________________________________________\n",
      "dense_66 (Dense)             (None, 512)               262656    \n",
      "_________________________________________________________________\n",
      "dropout_42 (Dropout)         (None, 512)               0         \n",
      "_________________________________________________________________\n",
      "dense_67 (Dense)             (None, 4)                 2052      \n",
      "=================================================================\n",
      "Total params: 27,824,964\n",
      "Trainable params: 13,110,276\n",
      "Non-trainable params: 14,714,688\n",
      "_________________________________________________________________\n"
     ]
    }
   ],
   "source": [
    "# Modelo con las features extraidas\n",
    "\n",
    "model = Sequential()\n",
    "model.add(vgg_model2)\n",
    "model.add(Dense(512, activation='relu', input_dim=inputS))\n",
    "model.add(Dropout(0.3))\n",
    "model.add(Dense(512, activation='relu'))\n",
    "model.add(Dropout(0.3))\n",
    "model.add(Dense(4, activation='softmax'))\n",
    "\n",
    "model.compile(optimizer='Adam', loss='categorical_crossentropy', metrics=['accuracy'])\n",
    "\n",
    "model.summary()"
   ]
  },
  {
   "cell_type": "code",
   "execution_count": 143,
   "metadata": {},
   "outputs": [
    {
     "name": "stdout",
     "output_type": "stream",
     "text": [
      "Epoch 1/10\n",
      "2/2 [==============================] - 30s 15s/step - loss: 1.9294 - accuracy: 0.2917 - val_loss: 3.2109 - val_accuracy: 0.4167\n",
      "Epoch 2/10\n",
      "2/2 [==============================] - 35s 17s/step - loss: 3.6145 - accuracy: 0.3958 - val_loss: 2.8088 - val_accuracy: 0.3333\n",
      "Epoch 3/10\n",
      "2/2 [==============================] - 32s 16s/step - loss: 1.9156 - accuracy: 0.5208 - val_loss: 1.7429 - val_accuracy: 0.5833\n",
      "Epoch 4/10\n",
      "2/2 [==============================] - 32s 16s/step - loss: 1.3273 - accuracy: 0.5833 - val_loss: 1.3350 - val_accuracy: 0.5833\n",
      "Epoch 5/10\n",
      "2/2 [==============================] - 31s 16s/step - loss: 1.2518 - accuracy: 0.6875 - val_loss: 1.2289 - val_accuracy: 0.3333\n",
      "Epoch 6/10\n",
      "2/2 [==============================] - 33s 17s/step - loss: 0.9644 - accuracy: 0.6667 - val_loss: 1.2118 - val_accuracy: 0.6667\n",
      "Epoch 7/10\n",
      "2/2 [==============================] - 32s 16s/step - loss: 0.2730 - accuracy: 0.8958 - val_loss: 1.1309 - val_accuracy: 0.6667\n",
      "Epoch 8/10\n",
      "2/2 [==============================] - 34s 17s/step - loss: 0.4552 - accuracy: 0.7708 - val_loss: 1.0993 - val_accuracy: 0.5000\n",
      "Epoch 9/10\n",
      "2/2 [==============================] - 32s 16s/step - loss: 0.3000 - accuracy: 0.8958 - val_loss: 0.7954 - val_accuracy: 0.6667\n",
      "Epoch 10/10\n",
      "2/2 [==============================] - 33s 16s/step - loss: 0.3019 - accuracy: 0.8958 - val_loss: 0.7969 - val_accuracy: 0.5833\n"
     ]
    }
   ],
   "source": [
    "history3 = model.fit_generator(generator= train_set, \n",
    "                          steps_per_epoch= 2, \n",
    "                          epochs= 10, \n",
    "                          validation_data= validation_set)"
   ]
  },
  {
   "cell_type": "code",
   "execution_count": 144,
   "metadata": {},
   "outputs": [
    {
     "data": {
      "image/png": "[encoded data removed]",
      "text/plain": [
       "<Figure size 432x288 with 1 Axes>"
      ]
     },
     "metadata": {
      "needs_background": "light"
     },
     "output_type": "display_data"
    },
    {
     "data": {
      "image/png": "[encoded data removed]",
      "text/plain": [
       "<Figure size 432x288 with 1 Axes>"
      ]
     },
     "metadata": {
      "needs_background": "light"
     },
     "output_type": "display_data"
    }
   ],
   "source": [
    "plt.plot(history3.history['accuracy'])\n",
    "plt.plot(history3.history['val_accuracy'])\n",
    "plt.title('model accuracy')\n",
    "plt.ylabel('accuracy')\n",
    "plt.xlabel('epoch')\n",
    "plt.legend(['train', 'validation'], loc='upper left')\n",
    "plt.show()\n",
    "\n",
    "plt.plot(history3.history['loss'])\n",
    "plt.plot(history3.history['val_loss'])\n",
    "plt.title('model loss')\n",
    "plt.ylabel('loss')\n",
    "plt.xlabel('epoch')\n",
    "plt.legend(['train', 'validation'], loc='upper left')\n",
    "plt.show()"
   ]
  },
  {
   "cell_type": "markdown",
   "metadata": {},
   "source": [
    "Puede verse que este modelo sufre de overfitting, por lo que se intentará cambiar un poco la configuración de la red Fully Connected. Se disminuirá el número de neuronas en la segunda capa oculta, se configurará Batch Normalization y regularización L1 y L2 para evaluar si estas técnicas ayudan a reducir el overfitting. Se intentará también con el optimizador RMSprop"
   ]
  },
  {
   "cell_type": "code",
   "execution_count": 181,
   "metadata": {},
   "outputs": [
    {
     "name": "stdout",
     "output_type": "stream",
     "text": [
      "Model: \"sequential_52\"\n",
      "_________________________________________________________________\n",
      "Layer (type)                 Output Shape              Param #   \n",
      "=================================================================\n",
      "model_9 (Model)              (None, 25088)             14714688  \n",
      "_________________________________________________________________\n",
      "dense_114 (Dense)            (None, 512)               12845568  \n",
      "_________________________________________________________________\n",
      "batch_normalization_20 (Batc (None, 512)               2048      \n",
      "_________________________________________________________________\n",
      "dropout_70 (Dropout)         (None, 512)               0         \n",
      "_________________________________________________________________\n",
      "dense_115 (Dense)            (None, 256)               131328    \n",
      "_________________________________________________________________\n",
      "batch_normalization_21 (Batc (None, 256)               1024      \n",
      "_________________________________________________________________\n",
      "dropout_71 (Dropout)         (None, 256)               0         \n",
      "_________________________________________________________________\n",
      "dense_116 (Dense)            (None, 4)                 1028      \n",
      "=================================================================\n",
      "Total params: 27,695,684\n",
      "Trainable params: 12,979,460\n",
      "Non-trainable params: 14,716,224\n",
      "_________________________________________________________________\n"
     ]
    }
   ],
   "source": [
    "# Modelo con técnicas para disminuir overfitting\n",
    "\n",
    "inputS = vgg_model2.output_shape[1]\n",
    "\n",
    "model = Sequential()\n",
    "model.add(vgg_model2)\n",
    "model.add(Dense(512, activation='relu', input_dim=inputS, kernel_regularizer=l1_l2(l1=0.001, l2=0.003)))\n",
    "model.add(BatchNormalization())\n",
    "model.add(Dropout(0.4))\n",
    "model.add(Dense(256, activation='relu', kernel_regularizer=l1_l2(l1=0.001, l2=0.003)))\n",
    "model.add(BatchNormalization())\n",
    "model.add(Dropout(0.3))\n",
    "model.add(Dense(4, activation='softmax'))\n",
    "\n",
    "model.compile(optimizer='RMSprop', loss='categorical_crossentropy', metrics=['accuracy'])\n",
    "\n",
    "model.summary()"
   ]
  },
  {
   "cell_type": "code",
   "execution_count": 177,
   "metadata": {},
   "outputs": [
    {
     "name": "stdout",
     "output_type": "stream",
     "text": [
      "Epoch 1/10\n",
      "2/2 [==============================] - 36s 18s/step - loss: 99.9619 - accuracy: 0.5000 - val_loss: 75.1905 - val_accuracy: 0.4167\n",
      "Epoch 2/10\n",
      "2/2 [==============================] - 34s 17s/step - loss: 68.6081 - accuracy: 0.8750 - val_loss: 56.7027 - val_accuracy: 0.5000\n",
      "Epoch 3/10\n",
      "2/2 [==============================] - 33s 16s/step - loss: 51.9816 - accuracy: 1.0000 - val_loss: 45.2771 - val_accuracy: 0.5000\n",
      "Epoch 4/10\n",
      "2/2 [==============================] - 33s 17s/step - loss: 42.2534 - accuracy: 1.0000 - val_loss: 39.2113 - val_accuracy: 0.5000\n",
      "Epoch 5/10\n",
      "2/2 [==============================] - 32s 16s/step - loss: 37.0772 - accuracy: 0.9792 - val_loss: 35.4781 - val_accuracy: 0.4167\n",
      "Epoch 6/10\n",
      "2/2 [==============================] - 34s 17s/step - loss: 33.6139 - accuracy: 1.0000 - val_loss: 32.2932 - val_accuracy: 0.5000\n",
      "Epoch 7/10\n",
      "2/2 [==============================] - 32s 16s/step - loss: 30.5887 - accuracy: 1.0000 - val_loss: 29.5587 - val_accuracy: 0.5000\n",
      "Epoch 8/10\n",
      "2/2 [==============================] - 35s 17s/step - loss: 27.8587 - accuracy: 1.0000 - val_loss: 27.1779 - val_accuracy: 0.5833\n",
      "Epoch 9/10\n",
      "2/2 [==============================] - 35s 17s/step - loss: 25.5985 - accuracy: 1.0000 - val_loss: 24.9871 - val_accuracy: 0.5000\n",
      "Epoch 10/10\n",
      "2/2 [==============================] - 32s 16s/step - loss: 23.6154 - accuracy: 1.0000 - val_loss: 22.9965 - val_accuracy: 0.6667\n"
     ]
    },
    {
     "data": {
      "image/png": "[encoded data removed]",
      "text/plain": [
       "<Figure size 432x288 with 1 Axes>"
      ]
     },
     "metadata": {
      "needs_background": "light"
     },
     "output_type": "display_data"
    },
    {
     "data": {
      "image/png": "[encoded data removed]",
      "text/plain": [
       "<Figure size 432x288 with 1 Axes>"
      ]
     },
     "metadata": {
      "needs_background": "light"
     },
     "output_type": "display_data"
    }
   ],
   "source": [
    "history4 = model.fit_generator(generator= train_set, \n",
    "                          steps_per_epoch= 2, \n",
    "                          epochs= 10, \n",
    "                          validation_data= validation_set)\n",
    "\n",
    "plt.plot(history4.history['accuracy'])\n",
    "plt.plot(history4.history['val_accuracy'])\n",
    "plt.title('model accuracy')\n",
    "plt.ylabel('accuracy')\n",
    "plt.xlabel('epoch')\n",
    "plt.legend(['train', 'validation'], loc='upper left')\n",
    "plt.show()\n",
    "\n",
    "plt.plot(history4.history['loss'])\n",
    "plt.plot(history4.history['val_loss'])\n",
    "plt.title('model loss')\n",
    "plt.ylabel('loss')\n",
    "plt.xlabel('epoch')\n",
    "plt.legend(['train', 'validation'], loc='upper left')\n",
    "plt.show()"
   ]
  },
  {
   "cell_type": "code",
   "execution_count": 182,
   "metadata": {},
   "outputs": [
    {
     "name": "stdout",
     "output_type": "stream",
     "text": [
      "Epoch 1/10\n",
      "10/10 [==============================] - 146s 15s/step - loss: 59.6961 - accuracy: 0.8583 - val_loss: 36.2369 - val_accuracy: 0.4167\n",
      "Epoch 2/10\n",
      "10/10 [==============================] - 159s 16s/step - loss: 27.5942 - accuracy: 1.0000 - val_loss: 23.0002 - val_accuracy: 0.5000\n",
      "Epoch 3/10\n",
      "10/10 [==============================] - 148s 15s/step - loss: 18.9124 - accuracy: 0.9750 - val_loss: 17.9137 - val_accuracy: 0.5000\n",
      "Epoch 4/10\n",
      "10/10 [==============================] - 140s 14s/step - loss: 14.3261 - accuracy: 0.9958 - val_loss: 13.0208 - val_accuracy: 0.4167\n",
      "Epoch 5/10\n",
      "10/10 [==============================] - 143s 14s/step - loss: 12.5042 - accuracy: 0.9500 - val_loss: 13.6297 - val_accuracy: 0.5000\n",
      "Epoch 6/10\n",
      "10/10 [==============================] - 143s 14s/step - loss: 10.5683 - accuracy: 1.0000 - val_loss: 10.0508 - val_accuracy: 0.5833\n",
      "Epoch 7/10\n",
      "10/10 [==============================] - 142s 14s/step - loss: 11.2435 - accuracy: 0.9375 - val_loss: 12.4748 - val_accuracy: 0.4167\n",
      "Epoch 8/10\n",
      "10/10 [==============================] - 141s 14s/step - loss: 9.3316 - accuracy: 0.9958 - val_loss: 9.5325 - val_accuracy: 0.3333\n",
      "Epoch 9/10\n",
      "10/10 [==============================] - 174s 17s/step - loss: 10.1923 - accuracy: 0.9625 - val_loss: 10.4191 - val_accuracy: 0.5833\n",
      "Epoch 10/10\n",
      "10/10 [==============================] - 176s 18s/step - loss: 8.5366 - accuracy: 1.0000 - val_loss: 10.7088 - val_accuracy: 0.3333\n"
     ]
    },
    {
     "data": {
      "image/png": "[encoded data removed]",
      "text/plain": [
       "<Figure size 432x288 with 1 Axes>"
      ]
     },
     "metadata": {
      "needs_background": "light"
     },
     "output_type": "display_data"
    },
    {
     "data": {
      "image/png": "[encoded data removed]",
      "text/plain": [
       "<Figure size 432x288 with 1 Axes>"
      ]
     },
     "metadata": {
      "needs_background": "light"
     },
     "output_type": "display_data"
    }
   ],
   "source": [
    "history5 = model.fit_generator(generator= train_set, \n",
    "                          steps_per_epoch= 10, \n",
    "                          epochs= 10, \n",
    "                          validation_data= validation_set)\n",
    "\n",
    "plt.plot(history5.history['accuracy'])\n",
    "plt.plot(history5.history['val_accuracy'])\n",
    "plt.title('model accuracy')\n",
    "plt.ylabel('accuracy')\n",
    "plt.xlabel('epoch')\n",
    "plt.legend(['train', 'validation'], loc='upper left')\n",
    "plt.show()\n",
    "\n",
    "plt.plot(history5.history['loss'])\n",
    "plt.plot(history5.history['val_loss'])\n",
    "plt.title('model loss')\n",
    "plt.ylabel('loss')\n",
    "plt.xlabel('epoch')\n",
    "plt.legend(['train', 'validation'], loc='upper left')\n",
    "plt.show()"
   ]
  },
  {
   "cell_type": "markdown",
   "metadata": {},
   "source": [
    "Puede verse que con técnicas de regularización el modelo no reduce el overfitting, por lo cual se intentará con reducir la complejidad del modelo. Para esto se eliminarán las capas ocultas de la red Fully Connected y se conectarán los bloques convolucionales de VGG16 a la capa de salida con activación softmax, entre ellas se colocará un dropout para ayudar también al overfitting.\n",
    "\n",
    "También se empieza con agregar el checkpoint para guardar los parámetros conforme se vaya entrenando el modelo."
   ]
  },
  {
   "cell_type": "code",
   "execution_count": 211,
   "metadata": {},
   "outputs": [
    {
     "name": "stdout",
     "output_type": "stream",
     "text": [
      "Model: \"sequential_58\"\n",
      "_________________________________________________________________\n",
      "Layer (type)                 Output Shape              Param #   \n",
      "=================================================================\n",
      "model_10 (Model)             (None, 25088)             14714688  \n",
      "_________________________________________________________________\n",
      "dropout_78 (Dropout)         (None, 25088)             0         \n",
      "_________________________________________________________________\n",
      "dense_124 (Dense)            (None, 4)                 100356    \n",
      "=================================================================\n",
      "Total params: 14,815,044\n",
      "Trainable params: 100,356\n",
      "Non-trainable params: 14,714,688\n",
      "_________________________________________________________________\n"
     ]
    }
   ],
   "source": [
    "# Modelo sin capas ocultas, LR = 0.001\n",
    "\n",
    "model = Sequential()\n",
    "model.add(vgg_model2)\n",
    "model.add(Dropout(0.5))\n",
    "model.add(Dense(4, activation='softmax'))\n",
    "\n",
    "model.compile(optimizer=Adam(0.001), loss='categorical_crossentropy', metrics=['accuracy'])\n",
    "\n",
    "model.summary()"
   ]
  },
  {
   "cell_type": "code",
   "execution_count": 351,
   "metadata": {},
   "outputs": [],
   "source": [
    "from keras.callbacks import ModelCheckpoint\n",
    "from keras.callbacks import EarlyStopping\n",
    "\n",
    "\n",
    "filepath=\"Checkpoint.hdf5\"\n",
    "checkpoint = ModelCheckpoint(filepath, monitor='val_ac', verbose=1, save_best_only=True, mode='max')\n",
    "callbacks_list = [checkpoint]\n",
    "\n",
    "\n",
    "# checkpoint to stop training if model didn't improve valid loss for 3 epochs\n",
    "callback_early_stopping = EarlyStopping(monitor=\"val_loss\", patience=5)"
   ]
  },
  {
   "cell_type": "code",
   "execution_count": 213,
   "metadata": {},
   "outputs": [
    {
     "name": "stdout",
     "output_type": "stream",
     "text": [
      "Epoch 1/30\n",
      "12/12 [==============================] - 26s 2s/step - loss: 2.6797 - accuracy: 0.2917 - val_loss: 0.2524 - val_accuracy: 0.4167\n",
      "\n",
      "Epoch 00001: val_loss improved from inf to 0.25235, saving model to Checkpoint.hdf5\n",
      "Epoch 2/30\n",
      "12/12 [==============================] - 23s 2s/step - loss: 1.6439 - accuracy: 0.4583 - val_loss: 2.5304 - val_accuracy: 0.4167\n",
      "\n",
      "Epoch 00002: val_loss did not improve from 0.25235\n",
      "Epoch 3/30\n",
      "12/12 [==============================] - 23s 2s/step - loss: 0.8741 - accuracy: 0.6667 - val_loss: 1.2734 - val_accuracy: 0.5833\n",
      "\n",
      "Epoch 00003: val_loss did not improve from 0.25235\n",
      "Epoch 4/30\n",
      "12/12 [==============================] - 22s 2s/step - loss: 0.5711 - accuracy: 0.7917 - val_loss: 0.0052 - val_accuracy: 0.5000\n",
      "\n",
      "Epoch 00004: val_loss improved from 0.25235 to 0.00523, saving model to Checkpoint.hdf5\n",
      "Epoch 5/30\n",
      "12/12 [==============================] - 24s 2s/step - loss: 0.4173 - accuracy: 0.8750 - val_loss: 0.6320 - val_accuracy: 0.6667\n",
      "\n",
      "Epoch 00005: val_loss did not improve from 0.00523\n",
      "Epoch 6/30\n",
      "12/12 [==============================] - 22s 2s/step - loss: 0.2581 - accuracy: 0.9583 - val_loss: 2.3260 - val_accuracy: 0.5833\n",
      "\n",
      "Epoch 00006: val_loss did not improve from 0.00523\n",
      "Epoch 7/30\n",
      "12/12 [==============================] - 23s 2s/step - loss: 0.1120 - accuracy: 1.0000 - val_loss: 1.0121 - val_accuracy: 0.7500\n",
      "\n",
      "Epoch 00007: val_loss did not improve from 0.00523\n",
      "Epoch 8/30\n",
      "12/12 [==============================] - 24s 2s/step - loss: 0.1163 - accuracy: 1.0000 - val_loss: 0.2670 - val_accuracy: 0.8333\n",
      "\n",
      "Epoch 00008: val_loss did not improve from 0.00523\n",
      "Epoch 9/30\n",
      "12/12 [==============================] - 22s 2s/step - loss: 0.1777 - accuracy: 0.9167 - val_loss: 0.0365 - val_accuracy: 0.7500\n",
      "\n",
      "Epoch 00009: val_loss did not improve from 0.00523\n",
      "Epoch 10/30\n",
      "12/12 [==============================] - 24s 2s/step - loss: 0.0534 - accuracy: 1.0000 - val_loss: 0.0494 - val_accuracy: 0.5833\n",
      "\n",
      "Epoch 00010: val_loss did not improve from 0.00523\n",
      "Epoch 11/30\n",
      "12/12 [==============================] - 24s 2s/step - loss: 0.0535 - accuracy: 1.0000 - val_loss: 0.0095 - val_accuracy: 0.8333\n",
      "\n",
      "Epoch 00011: val_loss did not improve from 0.00523\n",
      "Epoch 12/30\n",
      "12/12 [==============================] - 22s 2s/step - loss: 0.0797 - accuracy: 0.9583 - val_loss: 0.3502 - val_accuracy: 0.8333\n",
      "\n",
      "Epoch 00012: val_loss did not improve from 0.00523\n",
      "Epoch 13/30\n",
      "12/12 [==============================] - 22s 2s/step - loss: 0.0642 - accuracy: 1.0000 - val_loss: 0.1917 - val_accuracy: 0.8333\n",
      "\n",
      "Epoch 00013: val_loss did not improve from 0.00523\n",
      "Epoch 14/30\n",
      "12/12 [==============================] - 22s 2s/step - loss: 0.0233 - accuracy: 1.0000 - val_loss: 0.4036 - val_accuracy: 0.8333\n",
      "\n",
      "Epoch 00014: val_loss did not improve from 0.00523\n",
      "Epoch 15/30\n",
      "12/12 [==============================] - 25s 2s/step - loss: 0.0332 - accuracy: 1.0000 - val_loss: 0.3684 - val_accuracy: 0.7500\n",
      "\n",
      "Epoch 00015: val_loss did not improve from 0.00523\n",
      "Epoch 16/30\n",
      "12/12 [==============================] - 24s 2s/step - loss: 0.0328 - accuracy: 1.0000 - val_loss: 0.5938 - val_accuracy: 0.6667\n",
      "\n",
      "Epoch 00016: val_loss did not improve from 0.00523\n",
      "Epoch 17/30\n",
      "12/12 [==============================] - 25s 2s/step - loss: 0.0465 - accuracy: 1.0000 - val_loss: 2.0861 - val_accuracy: 0.8333\n",
      "\n",
      "Epoch 00017: val_loss did not improve from 0.00523\n",
      "Epoch 18/30\n",
      "12/12 [==============================] - 22s 2s/step - loss: 0.1116 - accuracy: 0.9583 - val_loss: 0.1405 - val_accuracy: 0.6667\n",
      "\n",
      "Epoch 00018: val_loss did not improve from 0.00523\n",
      "Epoch 19/30\n",
      "12/12 [==============================] - 23s 2s/step - loss: 0.0577 - accuracy: 1.0000 - val_loss: 0.1623 - val_accuracy: 0.7500\n",
      "\n",
      "Epoch 00019: val_loss did not improve from 0.00523\n",
      "Epoch 20/30\n",
      "12/12 [==============================] - 22s 2s/step - loss: 0.0528 - accuracy: 0.9583 - val_loss: 0.4752 - val_accuracy: 0.7500\n",
      "\n",
      "Epoch 00020: val_loss did not improve from 0.00523\n",
      "Epoch 21/30\n",
      "12/12 [==============================] - 24s 2s/step - loss: 0.0196 - accuracy: 1.0000 - val_loss: 2.2888e-05 - val_accuracy: 0.7500\n",
      "\n",
      "Epoch 00021: val_loss improved from 0.00523 to 0.00002, saving model to Checkpoint.hdf5\n",
      "Epoch 22/30\n",
      "12/12 [==============================] - 24s 2s/step - loss: 0.0469 - accuracy: 1.0000 - val_loss: 0.7592 - val_accuracy: 0.7500\n",
      "\n",
      "Epoch 00022: val_loss did not improve from 0.00002\n",
      "Epoch 23/30\n",
      "12/12 [==============================] - 24s 2s/step - loss: 0.0293 - accuracy: 1.0000 - val_loss: 4.1214e-04 - val_accuracy: 0.9167\n",
      "\n",
      "Epoch 00023: val_loss did not improve from 0.00002\n",
      "Epoch 24/30\n",
      "12/12 [==============================] - 22s 2s/step - loss: 0.0182 - accuracy: 1.0000 - val_loss: 0.1290 - val_accuracy: 0.9167\n",
      "\n",
      "Epoch 00024: val_loss did not improve from 0.00002\n",
      "Epoch 25/30\n",
      "12/12 [==============================] - 22s 2s/step - loss: 0.0147 - accuracy: 1.0000 - val_loss: 0.0056 - val_accuracy: 0.9167\n",
      "\n",
      "Epoch 00025: val_loss did not improve from 0.00002\n",
      "Epoch 26/30\n",
      "12/12 [==============================] - 23s 2s/step - loss: 0.0117 - accuracy: 1.0000 - val_loss: 1.6517 - val_accuracy: 0.9167\n",
      "\n",
      "Epoch 00026: val_loss did not improve from 0.00002\n",
      "Epoch 27/30\n",
      "12/12 [==============================] - 23s 2s/step - loss: 0.0097 - accuracy: 1.0000 - val_loss: 0.1689 - val_accuracy: 0.9167\n",
      "\n",
      "Epoch 00027: val_loss did not improve from 0.00002\n",
      "Epoch 28/30\n",
      "12/12 [==============================] - 23s 2s/step - loss: 0.0051 - accuracy: 1.0000 - val_loss: 0.2538 - val_accuracy: 1.0000\n",
      "\n",
      "Epoch 00028: val_loss did not improve from 0.00002\n",
      "Epoch 29/30\n",
      "12/12 [==============================] - 22s 2s/step - loss: 0.0232 - accuracy: 1.0000 - val_loss: 0.0121 - val_accuracy: 0.9167\n",
      "\n",
      "Epoch 00029: val_loss did not improve from 0.00002\n",
      "Epoch 30/30\n",
      "12/12 [==============================] - 21s 2s/step - loss: 0.0157 - accuracy: 1.0000 - val_loss: 0.3954 - val_accuracy: 0.9167\n",
      "\n",
      "Epoch 00030: val_loss did not improve from 0.00002\n"
     ]
    },
    {
     "data": {
      "image/png": "[encoded data removed]",
      "text/plain": [
       "<Figure size 432x288 with 1 Axes>"
      ]
     },
     "metadata": {
      "needs_background": "light"
     },
     "output_type": "display_data"
    },
    {
     "data": {
      "image/png": "[encoded data removed]",
      "text/plain": [
       "<Figure size 432x288 with 1 Axes>"
      ]
     },
     "metadata": {
      "needs_background": "light"
     },
     "output_type": "display_data"
    }
   ],
   "source": [
    "history7 = model.fit_generator(generator= train_set,  \n",
    "                               epochs= 30, \n",
    "                               validation_data= validation_set,\n",
    "                               callbacks=[checkpoint])\n",
    "\n",
    "plt.plot(history7.history['accuracy'])\n",
    "plt.plot(history7.history['val_accuracy'])\n",
    "plt.title('model accuracy')\n",
    "plt.ylabel('accuracy')\n",
    "plt.xlabel('epoch')\n",
    "plt.legend(['train', 'validation'], loc='upper left')\n",
    "plt.show()\n",
    "\n",
    "plt.plot(history7.history['loss'])\n",
    "plt.plot(history7.history['val_loss'])\n",
    "plt.title('model loss')\n",
    "plt.ylabel('loss')\n",
    "plt.xlabel('epoch')\n",
    "plt.legend(['train', 'validation'], loc='upper left')\n",
    "plt.show()"
   ]
  },
  {
   "cell_type": "code",
   "execution_count": 356,
   "metadata": {},
   "outputs": [
    {
     "name": "stdout",
     "output_type": "stream",
     "text": [
      "Model: \"sequential_70\"\n",
      "_________________________________________________________________\n",
      "Layer (type)                 Output Shape              Param #   \n",
      "=================================================================\n",
      "model_11 (Model)             (None, 25088)             14714688  \n",
      "_________________________________________________________________\n",
      "batch_normalization_36 (Batc (None, 25088)             100352    \n",
      "_________________________________________________________________\n",
      "dropout_89 (Dropout)         (None, 25088)             0         \n",
      "_________________________________________________________________\n",
      "dense_138 (Dense)            (None, 4)                 100356    \n",
      "=================================================================\n",
      "Total params: 14,915,396\n",
      "Trainable params: 150,532\n",
      "Non-trainable params: 14,764,864\n",
      "_________________________________________________________________\n"
     ]
    }
   ],
   "source": [
    "# Modelo sin capas ocultas, LR = 0.0001\n",
    "\n",
    "model = Sequential()\n",
    "model.add(vgg_model2)\n",
    "model.add(BatchNormalization())\n",
    "model.add(Dropout(0.3))\n",
    "model.add(Dense(4, activation='softmax'))\n",
    "\n",
    "model.compile(optimizer=Adam(0.0005), loss='categorical_crossentropy', metrics=['accuracy'])\n",
    "\n",
    "model.summary()"
   ]
  },
  {
   "cell_type": "code",
   "execution_count": 357,
   "metadata": {},
   "outputs": [
    {
     "name": "stdout",
     "output_type": "stream",
     "text": [
      "Epoch 1/30\n",
      "12/12 [==============================] - 16s 1s/step - loss: 1.6921 - accuracy: 0.2500 - val_loss: 1.7666 - val_accuracy: 0.2500\n",
      "Epoch 2/30\n"
     ]
    },
    {
     "name": "stderr",
     "output_type": "stream",
     "text": [
      "C:\\Users\\Elda Calderon\\anaconda3\\lib\\site-packages\\keras\\callbacks\\callbacks.py:707: RuntimeWarning: Can save best model only with val_ac available, skipping.\n",
      "  'skipping.' % (self.monitor), RuntimeWarning)\n"
     ]
    },
    {
     "name": "stdout",
     "output_type": "stream",
     "text": [
      "12/12 [==============================] - 14s 1s/step - loss: 1.2347 - accuracy: 0.6250 - val_loss: 1.7555 - val_accuracy: 0.2500\n",
      "Epoch 3/30\n",
      "12/12 [==============================] - 14s 1s/step - loss: 1.7134 - accuracy: 0.5417 - val_loss: 1.5034 - val_accuracy: 0.3333\n",
      "Epoch 4/30\n",
      "12/12 [==============================] - 15s 1s/step - loss: 0.6738 - accuracy: 0.7917 - val_loss: 1.2982 - val_accuracy: 0.3333\n",
      "Epoch 5/30\n",
      "12/12 [==============================] - 17s 1s/step - loss: 0.9290 - accuracy: 0.7500 - val_loss: 1.2473 - val_accuracy: 0.4167\n",
      "Epoch 6/30\n",
      "12/12 [==============================] - 14s 1s/step - loss: 0.6702 - accuracy: 0.7917 - val_loss: 1.0781 - val_accuracy: 0.5833\n",
      "Epoch 7/30\n",
      "12/12 [==============================] - 15s 1s/step - loss: 0.8538 - accuracy: 0.7083 - val_loss: 0.8886 - val_accuracy: 0.6667\n",
      "Epoch 8/30\n",
      "12/12 [==============================] - 15s 1s/step - loss: 0.8732 - accuracy: 0.7083 - val_loss: 0.6211 - val_accuracy: 0.8333\n",
      "Epoch 9/30\n",
      "12/12 [==============================] - 14s 1s/step - loss: 1.0333 - accuracy: 0.6667 - val_loss: 0.4366 - val_accuracy: 0.8333\n",
      "Epoch 10/30\n",
      "12/12 [==============================] - 17s 1s/step - loss: 0.5566 - accuracy: 0.7500 - val_loss: 0.4537 - val_accuracy: 0.8333\n",
      "Epoch 11/30\n",
      "12/12 [==============================] - 14s 1s/step - loss: 0.6283 - accuracy: 0.8333 - val_loss: 0.4485 - val_accuracy: 0.8333\n",
      "Epoch 12/30\n",
      "12/12 [==============================] - 18s 2s/step - loss: 0.4914 - accuracy: 0.7917 - val_loss: 0.3690 - val_accuracy: 0.9167\n",
      "Epoch 13/30\n",
      "12/12 [==============================] - 14s 1s/step - loss: 0.3348 - accuracy: 0.8750 - val_loss: 0.3217 - val_accuracy: 0.9167\n",
      "Epoch 14/30\n",
      "12/12 [==============================] - 16s 1s/step - loss: 0.6400 - accuracy: 0.7500 - val_loss: 0.2756 - val_accuracy: 0.9167\n",
      "Epoch 15/30\n",
      "12/12 [==============================] - 15s 1s/step - loss: 0.6663 - accuracy: 0.7083 - val_loss: 0.2447 - val_accuracy: 0.9167\n",
      "Epoch 16/30\n",
      "12/12 [==============================] - 15s 1s/step - loss: 0.5661 - accuracy: 0.8333 - val_loss: 0.2738 - val_accuracy: 0.9167\n",
      "Epoch 17/30\n",
      "12/12 [==============================] - 16s 1s/step - loss: 1.2491 - accuracy: 0.6250 - val_loss: 0.2861 - val_accuracy: 0.9167\n",
      "Epoch 18/30\n",
      "12/12 [==============================] - 17s 1s/step - loss: 0.5039 - accuracy: 0.8333 - val_loss: 0.2264 - val_accuracy: 0.9167\n",
      "Epoch 19/30\n",
      "12/12 [==============================] - 16s 1s/step - loss: 1.0451 - accuracy: 0.7083 - val_loss: 0.2195 - val_accuracy: 0.9167\n",
      "Epoch 20/30\n",
      "12/12 [==============================] - 16s 1s/step - loss: 0.6951 - accuracy: 0.7083 - val_loss: 0.1495 - val_accuracy: 1.0000\n",
      "Epoch 21/30\n",
      "12/12 [==============================] - 14s 1s/step - loss: 1.0095 - accuracy: 0.7500 - val_loss: 0.1527 - val_accuracy: 0.9167\n",
      "Epoch 22/30\n",
      "12/12 [==============================] - 18s 2s/step - loss: 1.0291 - accuracy: 0.6667 - val_loss: 0.1258 - val_accuracy: 1.0000\n",
      "Epoch 23/30\n",
      "12/12 [==============================] - 15s 1s/step - loss: 1.2209 - accuracy: 0.6667 - val_loss: 0.1499 - val_accuracy: 1.0000\n",
      "Epoch 24/30\n",
      "12/12 [==============================] - 17s 1s/step - loss: 0.4391 - accuracy: 0.8333 - val_loss: 0.1384 - val_accuracy: 1.0000\n",
      "Epoch 25/30\n",
      "12/12 [==============================] - 16s 1s/step - loss: 0.4664 - accuracy: 0.9167 - val_loss: 0.1712 - val_accuracy: 1.0000\n",
      "Epoch 26/30\n",
      "12/12 [==============================] - 16s 1s/step - loss: 0.7070 - accuracy: 0.8333 - val_loss: 0.1664 - val_accuracy: 0.9167\n",
      "Epoch 27/30\n",
      "12/12 [==============================] - 16s 1s/step - loss: 0.2262 - accuracy: 0.9583 - val_loss: 0.1893 - val_accuracy: 1.0000\n",
      "Epoch 28/30\n",
      "12/12 [==============================] - 16s 1s/step - loss: 0.4994 - accuracy: 0.7500 - val_loss: 0.2864 - val_accuracy: 0.8333\n",
      "Epoch 29/30\n",
      "12/12 [==============================] - 15s 1s/step - loss: 0.5712 - accuracy: 0.8750 - val_loss: 0.1174 - val_accuracy: 1.0000\n",
      "Epoch 30/30\n",
      "12/12 [==============================] - 17s 1s/step - loss: 1.0131 - accuracy: 0.8333 - val_loss: 0.1803 - val_accuracy: 0.9167\n"
     ]
    },
    {
     "data": {
      "image/png": "[encoded data removed]",
      "text/plain": [
       "<Figure size 432x288 with 1 Axes>"
      ]
     },
     "metadata": {
      "needs_background": "light"
     },
     "output_type": "display_data"
    },
    {
     "data": {
      "image/png": "[encoded data removed]",
      "text/plain": [
       "<Figure size 432x288 with 1 Axes>"
      ]
     },
     "metadata": {
      "needs_background": "light"
     },
     "output_type": "display_data"
    }
   ],
   "source": [
    "history8 = model.fit_generator(generator= train_set,  \n",
    "                               epochs= 30, \n",
    "                               validation_data= validation_set,\n",
    "                               callbacks=[checkpoint])\n",
    "\n",
    "plt.plot(history8.history['accuracy'])\n",
    "plt.plot(history8.history['val_accuracy'])\n",
    "plt.title('model accuracy')\n",
    "plt.ylabel('accuracy')\n",
    "plt.xlabel('epoch')\n",
    "plt.legend(['train', 'validation'], loc='upper left')\n",
    "plt.show()\n",
    "\n",
    "plt.plot(history8.history['loss'])\n",
    "plt.plot(history8.history['val_loss'])\n",
    "plt.title('model loss')\n",
    "plt.ylabel('loss')\n",
    "plt.xlabel('epoch')\n",
    "plt.legend(['train', 'validation'], loc='upper left')\n",
    "plt.show()"
   ]
  },
  {
   "cell_type": "code",
   "execution_count": 215,
   "metadata": {},
   "outputs": [
    {
     "name": "stdout",
     "output_type": "stream",
     "text": [
      "Epoch 1/30\n",
      "12/12 [==============================] - 23s 2s/step - loss: 1.9178 - accuracy: 0.1667 - val_loss: 1.3762 - val_accuracy: 0.1667\n",
      "\n",
      "Epoch 00001: val_loss did not improve from 0.00002\n",
      "Epoch 2/30\n",
      "12/12 [==============================] - 22s 2s/step - loss: 1.7846 - accuracy: 0.1667 - val_loss: 1.1531 - val_accuracy: 0.2500\n",
      "\n",
      "Epoch 00002: val_loss did not improve from 0.00002\n",
      "Epoch 3/30\n",
      "12/12 [==============================] - 23s 2s/step - loss: 1.3046 - accuracy: 0.3333 - val_loss: 1.7575 - val_accuracy: 0.4167\n",
      "\n",
      "Epoch 00003: val_loss did not improve from 0.00002\n",
      "Epoch 4/30\n",
      "12/12 [==============================] - 23s 2s/step - loss: 1.3400 - accuracy: 0.4583 - val_loss: 0.7433 - val_accuracy: 0.5000\n",
      "\n",
      "Epoch 00004: val_loss did not improve from 0.00002\n",
      "Epoch 5/30\n",
      "12/12 [==============================] - 25s 2s/step - loss: 1.2716 - accuracy: 0.5000 - val_loss: 0.6875 - val_accuracy: 0.5000\n",
      "\n",
      "Epoch 00005: val_loss did not improve from 0.00002\n",
      "Epoch 6/30\n",
      "12/12 [==============================] - 22s 2s/step - loss: 1.2032 - accuracy: 0.3750 - val_loss: 0.7854 - val_accuracy: 0.6667\n",
      "\n",
      "Epoch 00006: val_loss did not improve from 0.00002\n",
      "Epoch 7/30\n",
      "12/12 [==============================] - 23s 2s/step - loss: 1.1173 - accuracy: 0.5000 - val_loss: 1.3975 - val_accuracy: 0.5833\n",
      "\n",
      "Epoch 00007: val_loss did not improve from 0.00002\n",
      "Epoch 8/30\n",
      "12/12 [==============================] - 22s 2s/step - loss: 1.2094 - accuracy: 0.4583 - val_loss: 1.1157 - val_accuracy: 0.7500\n",
      "\n",
      "Epoch 00008: val_loss did not improve from 0.00002\n",
      "Epoch 9/30\n",
      "12/12 [==============================] - 25s 2s/step - loss: 1.0580 - accuracy: 0.5833 - val_loss: 0.8799 - val_accuracy: 0.8333\n",
      "\n",
      "Epoch 00009: val_loss did not improve from 0.00002\n",
      "Epoch 10/30\n",
      "12/12 [==============================] - 22s 2s/step - loss: 0.8389 - accuracy: 0.6250 - val_loss: 1.1084 - val_accuracy: 0.7500\n",
      "\n",
      "Epoch 00010: val_loss did not improve from 0.00002\n",
      "Epoch 11/30\n",
      "12/12 [==============================] - 23s 2s/step - loss: 0.9165 - accuracy: 0.6667 - val_loss: 0.4414 - val_accuracy: 0.7500\n",
      "\n",
      "Epoch 00011: val_loss did not improve from 0.00002\n",
      "Epoch 12/30\n",
      "12/12 [==============================] - 22s 2s/step - loss: 0.5708 - accuracy: 0.7500 - val_loss: 0.7199 - val_accuracy: 0.7500\n",
      "\n",
      "Epoch 00012: val_loss did not improve from 0.00002\n",
      "Epoch 13/30\n",
      "12/12 [==============================] - 24s 2s/step - loss: 0.5522 - accuracy: 0.8333 - val_loss: 0.3285 - val_accuracy: 0.7500\n",
      "\n",
      "Epoch 00013: val_loss did not improve from 0.00002\n",
      "Epoch 14/30\n",
      "12/12 [==============================] - 25s 2s/step - loss: 0.8980 - accuracy: 0.6667 - val_loss: 0.5199 - val_accuracy: 0.8333\n",
      "\n",
      "Epoch 00014: val_loss did not improve from 0.00002\n",
      "Epoch 15/30\n",
      "12/12 [==============================] - 25s 2s/step - loss: 0.7539 - accuracy: 0.7083 - val_loss: 1.1937 - val_accuracy: 0.9167\n",
      "\n",
      "Epoch 00015: val_loss did not improve from 0.00002\n",
      "Epoch 16/30\n",
      "12/12 [==============================] - 23s 2s/step - loss: 0.5939 - accuracy: 0.8333 - val_loss: 0.5911 - val_accuracy: 0.8333\n",
      "\n",
      "Epoch 00016: val_loss did not improve from 0.00002\n",
      "Epoch 17/30\n",
      "12/12 [==============================] - 23s 2s/step - loss: 0.6245 - accuracy: 0.6667 - val_loss: 0.2199 - val_accuracy: 0.8333\n",
      "\n",
      "Epoch 00017: val_loss did not improve from 0.00002\n",
      "Epoch 18/30\n",
      "12/12 [==============================] - 22s 2s/step - loss: 0.4504 - accuracy: 0.9583 - val_loss: 0.8217 - val_accuracy: 0.8333\n",
      "\n",
      "Epoch 00018: val_loss did not improve from 0.00002\n",
      "Epoch 19/30\n",
      "12/12 [==============================] - 24s 2s/step - loss: 0.7944 - accuracy: 0.7083 - val_loss: 0.8049 - val_accuracy: 0.8333\n",
      "\n",
      "Epoch 00019: val_loss did not improve from 0.00002\n",
      "Epoch 20/30\n",
      "12/12 [==============================] - 23s 2s/step - loss: 0.9293 - accuracy: 0.6250 - val_loss: 0.7878 - val_accuracy: 0.7500\n",
      "\n",
      "Epoch 00020: val_loss did not improve from 0.00002\n",
      "Epoch 21/30\n",
      "12/12 [==============================] - 23s 2s/step - loss: 0.4550 - accuracy: 0.7917 - val_loss: 0.4002 - val_accuracy: 0.7500\n",
      "\n",
      "Epoch 00021: val_loss did not improve from 0.00002\n",
      "Epoch 22/30\n",
      "12/12 [==============================] - 22s 2s/step - loss: 0.8789 - accuracy: 0.6250 - val_loss: 0.7313 - val_accuracy: 0.7500\n",
      "\n",
      "Epoch 00022: val_loss did not improve from 0.00002\n",
      "Epoch 23/30\n",
      "12/12 [==============================] - 26s 2s/step - loss: 0.8008 - accuracy: 0.7917 - val_loss: 0.0256 - val_accuracy: 0.7500\n",
      "\n",
      "Epoch 00023: val_loss did not improve from 0.00002\n",
      "Epoch 24/30\n",
      "12/12 [==============================] - 24s 2s/step - loss: 0.4587 - accuracy: 0.9167 - val_loss: 0.4041 - val_accuracy: 0.8333\n",
      "\n",
      "Epoch 00024: val_loss did not improve from 0.00002\n",
      "Epoch 25/30\n",
      "12/12 [==============================] - 24s 2s/step - loss: 0.3063 - accuracy: 0.9167 - val_loss: 0.8189 - val_accuracy: 1.0000\n",
      "\n",
      "Epoch 00025: val_loss did not improve from 0.00002\n",
      "Epoch 26/30\n",
      "12/12 [==============================] - 22s 2s/step - loss: 0.7093 - accuracy: 0.7083 - val_loss: 0.0465 - val_accuracy: 1.0000\n",
      "\n",
      "Epoch 00026: val_loss did not improve from 0.00002\n",
      "Epoch 27/30\n",
      "12/12 [==============================] - 23s 2s/step - loss: 0.5506 - accuracy: 0.7083 - val_loss: 0.3753 - val_accuracy: 0.9167\n",
      "\n",
      "Epoch 00027: val_loss did not improve from 0.00002\n",
      "Epoch 28/30\n",
      "12/12 [==============================] - 25s 2s/step - loss: 0.4345 - accuracy: 0.8750 - val_loss: 0.9541 - val_accuracy: 0.9167\n",
      "\n",
      "Epoch 00028: val_loss did not improve from 0.00002\n",
      "Epoch 29/30\n",
      "12/12 [==============================] - 23s 2s/step - loss: 0.7447 - accuracy: 0.6667 - val_loss: 0.8903 - val_accuracy: 0.9167\n",
      "\n",
      "Epoch 00029: val_loss did not improve from 0.00002\n",
      "Epoch 30/30\n",
      "12/12 [==============================] - 23s 2s/step - loss: 0.4902 - accuracy: 0.8750 - val_loss: 0.8541 - val_accuracy: 0.9167\n",
      "\n",
      "Epoch 00030: val_loss did not improve from 0.00002\n"
     ]
    },
    {
     "data": {
      "image/png": "[encoded data removed]",
      "text/plain": [
       "<Figure size 432x288 with 1 Axes>"
      ]
     },
     "metadata": {
      "needs_background": "light"
     },
     "output_type": "display_data"
    },
    {
     "data": {
      "image/png": "[encoded data removed]",
      "text/plain": [
       "<Figure size 432x288 with 1 Axes>"
      ]
     },
     "metadata": {
      "needs_background": "light"
     },
     "output_type": "display_data"
    }
   ],
   "source": [
    "history8 = model.fit_generator(generator= train_set,  \n",
    "                               epochs= 30, \n",
    "                               validation_data= validation_set,\n",
    "                               callbacks=[checkpoint])\n",
    "\n",
    "plt.plot(history8.history['accuracy'])\n",
    "plt.plot(history8.history['val_accuracy'])\n",
    "plt.title('model accuracy')\n",
    "plt.ylabel('accuracy')\n",
    "plt.xlabel('epoch')\n",
    "plt.legend(['train', 'validation'], loc='upper left')\n",
    "plt.show()\n",
    "\n",
    "plt.plot(history8.history['loss'])\n",
    "plt.plot(history8.history['val_loss'])\n",
    "plt.title('model loss')\n",
    "plt.ylabel('loss')\n",
    "plt.xlabel('epoch')\n",
    "plt.legend(['train', 'validation'], loc='upper left')\n",
    "plt.show()"
   ]
  },
  {
   "cell_type": "markdown",
   "metadata": {},
   "source": [
    "Con estas modificaciones puede verse que el modelo funciona mejor, se probó con dos valores de learning rate obteniendo mejores resultados con 0.0001 y 0.0005."
   ]
  },
  {
   "cell_type": "markdown",
   "metadata": {},
   "source": [
    "## Representaciones Intermedias"
   ]
  },
  {
   "cell_type": "code",
   "execution_count": 536,
   "metadata": {},
   "outputs": [
    {
     "data": {
      "text/plain": [
       "<keras.layers.convolutional.Conv2D at 0x21b4a0d3548>"
      ]
     },
     "execution_count": 536,
     "metadata": {},
     "output_type": "execute_result"
    }
   ],
   "source": [
    "vgg_model2.layers[-3]"
   ]
  },
  {
   "cell_type": "code",
   "execution_count": 537,
   "metadata": {},
   "outputs": [
    {
     "data": {
      "text/plain": [
       "<keras.layers.core.Flatten at 0x21b3afdd148>"
      ]
     },
     "execution_count": 537,
     "metadata": {},
     "output_type": "execute_result"
    }
   ],
   "source": [
    "vgg_model2.layers[-1]"
   ]
  },
  {
   "cell_type": "code",
   "execution_count": 526,
   "metadata": {},
   "outputs": [],
   "source": [
    "# Representaciones Intermedias Capa Convolucional bloque 5 VGG\n",
    "layer_output1 = vgg_model2.layers[-3].output\n",
    "activation_model1 = Model(inputs=vgg_model2.layers[0].input,outputs=layer_output1)\n",
    "\n",
    "layer_output2 = vgg_model2.layers[-5].output\n",
    "activation_model2 = Model(inputs=vgg_model2.layers[0].input,outputs=layer_output2)"
   ]
  },
  {
   "cell_type": "code",
   "execution_count": 527,
   "metadata": {},
   "outputs": [],
   "source": [
    "a1 = activation_model1.predict(test_set)\n",
    "a2 = activation_model2.predict(test_set)"
   ]
  },
  {
   "cell_type": "code",
   "execution_count": 574,
   "metadata": {},
   "outputs": [
    {
     "data": {
      "image/png": "[encoded data removed]",
      "text/plain": [
       "<Figure size 432x288 with 10 Axes>"
      ]
     },
     "metadata": {
      "needs_background": "light"
     },
     "output_type": "display_data"
    }
   ],
   "source": [
    "fig, ax = plt.subplots(2,5)\n",
    "fig.suptitle('Features Maps Capa Convolucional y Capa MaxPooling', fontsize=16)\n",
    "ax[0,0].imshow(a1[0,:,:,0]) # cuarto argumento es el filtro\n",
    "ax[0,1].imshow(a1[0,:,:,2])\n",
    "ax[0,2].imshow(a1[0,:,:,4])\n",
    "ax[0,3].imshow(a1[0,:,:,6])\n",
    "ax[0,4].imshow(a1[0,:,:,8])\n",
    "\n",
    "ax[1,0].imshow(a2[0,:,:,0])\n",
    "ax[1,1].imshow(a2[0,:,:,2])\n",
    "ax[1,2].imshow(a2[0,:,:,4])\n",
    "ax[1,3].imshow(a2[0,:,:,6])\n",
    "ax[1,4].imshow(a2[0,:,:,8])\n",
    "\n",
    "plt.show()"
   ]
  },
  {
   "cell_type": "markdown",
   "metadata": {},
   "source": [
    "## Metricas del Modelo"
   ]
  },
  {
   "cell_type": "code",
   "execution_count": 329,
   "metadata": {},
   "outputs": [],
   "source": [
    "from sklearn.metrics import accuracy_score\n",
    "from sklearn.metrics import f1_score\n",
    "from sklearn.metrics import precision_score\n",
    "from sklearn.metrics import confusion_matrix\n",
    "from sklearn.metrics import recall_score"
   ]
  },
  {
   "cell_type": "code",
   "execution_count": 358,
   "metadata": {},
   "outputs": [],
   "source": [
    "test_real = np.array([0,0,0,1,1,1,2,2,3,3,3])\n",
    "validation_real = np.array([0,0,0,1,1,1,2,2,2,3,3,3])"
   ]
  },
  {
   "cell_type": "code",
   "execution_count": 363,
   "metadata": {},
   "outputs": [
    {
     "name": "stdout",
     "output_type": "stream",
     "text": [
      "12/12 [==============================] - 10s 817ms/step\n"
     ]
    },
    {
     "data": {
      "text/plain": [
       "[0.06454449146986008, 1.0]"
      ]
     },
     "execution_count": 363,
     "metadata": {},
     "output_type": "execute_result"
    }
   ],
   "source": [
    "model.evaluate(train_set)"
   ]
  },
  {
   "cell_type": "code",
   "execution_count": 362,
   "metadata": {},
   "outputs": [
    {
     "name": "stdout",
     "output_type": "stream",
     "text": [
      "1/1 [==============================] - 5s 5s/step\n"
     ]
    },
    {
     "data": {
      "text/plain": [
       "[0.18027782440185547, 0.9166666865348816]"
      ]
     },
     "execution_count": 362,
     "metadata": {},
     "output_type": "execute_result"
    }
   ],
   "source": [
    "model.evaluate(validation_set)"
   ]
  },
  {
   "cell_type": "code",
   "execution_count": 361,
   "metadata": {},
   "outputs": [
    {
     "name": "stdout",
     "output_type": "stream",
     "text": [
      "1/1 [==============================] - 4s 4s/step\n"
     ]
    },
    {
     "data": {
      "text/plain": [
       "[2.761528968811035, 0.7272727489471436]"
      ]
     },
     "execution_count": 361,
     "metadata": {},
     "output_type": "execute_result"
    }
   ],
   "source": [
    "model.evaluate(test_set)"
   ]
  },
  {
   "cell_type": "markdown",
   "metadata": {},
   "source": [
    "# Prueba con Dataset de Animales\n",
    "\n",
    "Se hizo otra prueba con otro dataset de animales, se ejecutaron pocos epochs dado el tiempo de entrenamiento"
   ]
  },
  {
   "cell_type": "code",
   "execution_count": 339,
   "metadata": {
    "colab": {},
    "colab_type": "code",
    "id": "GGT9O7zmI_J7"
   },
   "outputs": [],
   "source": [
    "dataTrain = 'C:/Users/Elda Calderon/OneDrive/Data Science/3 Trimestre/Statistical Learning II/Proyecto/Parte 2/training'\n",
    "dataTest = 'C:/Users/Elda Calderon/OneDrive/Data Science/3 Trimestre/Statistical Learning II/Proyecto/Parte 2/test'\n",
    "dataValidation = 'C:/Users/Elda Calderon/OneDrive/Data Science/3 Trimestre/Statistical Learning II/Proyecto/Parte 2/validation'"
   ]
  },
  {
   "cell_type": "code",
   "execution_count": 340,
   "metadata": {
    "colab": {
     "base_uri": "https://localhost:8080/",
     "height": 51
    },
    "colab_type": "code",
    "id": "eEHDflItFTOD",
    "outputId": "8e573edc-9b63-4ff5-9a1e-ade661fbcafa"
   },
   "outputs": [
    {
     "name": "stdout",
     "output_type": "stream",
     "text": [
      "Found 2400 images belonging to 3 classes.\n",
      "Found 300 images belonging to 3 classes.\n"
     ]
    }
   ],
   "source": [
    "# Formateo de Datos\n",
    "from keras.preprocessing.image import ImageDataGenerator\n",
    "\n",
    "# Pre-procesamiento para train con aumentation\n",
    "train_datagen = ImageDataGenerator(\n",
    "    rescale = 1./255., \n",
    "    shear_range = 0.2,\n",
    "    zoom_range = 0.2,\n",
    "    horizontal_flip = True\n",
    ")\n",
    "\n",
    "# Pre-procesamiento para test\n",
    "test_datagen = ImageDataGenerator(rescale = 1./255.)\n",
    "\n",
    "# Pre-procesamiento para validation\n",
    "validation_datagen = ImageDataGenerator(rescale = 1./255.)\n",
    "\n",
    "\n",
    "# Configuracion imagenes de entrada para train y test\n",
    "train_set = train_datagen.flow_from_directory(\n",
    "    dataTrain,\n",
    "    target_size = (224,224),\n",
    "    batch_size = 64,\n",
    "    class_mode = 'categorical'\n",
    ") #reducir imagenes al mismo tamano\n",
    "\n",
    "validation_set = validation_datagen.flow_from_directory(\n",
    "    dataValidation,\n",
    "    target_size = (224,224),\n",
    "    batch_size = 32,\n",
    "    class_mode = 'categorical'\n",
    ")\n"
   ]
  },
  {
   "cell_type": "code",
   "execution_count": 341,
   "metadata": {},
   "outputs": [
    {
     "name": "stdout",
     "output_type": "stream",
     "text": [
      "Model: \"sequential_66\"\n",
      "_________________________________________________________________\n",
      "Layer (type)                 Output Shape              Param #   \n",
      "=================================================================\n",
      "model_11 (Model)             (None, 25088)             14714688  \n",
      "_________________________________________________________________\n",
      "dense_132 (Dense)            (None, 512)               12845568  \n",
      "_________________________________________________________________\n",
      "batch_normalization_31 (Batc (None, 512)               2048      \n",
      "_________________________________________________________________\n",
      "dropout_84 (Dropout)         (None, 512)               0         \n",
      "_________________________________________________________________\n",
      "dense_133 (Dense)            (None, 256)               131328    \n",
      "_________________________________________________________________\n",
      "batch_normalization_32 (Batc (None, 256)               1024      \n",
      "_________________________________________________________________\n",
      "dropout_85 (Dropout)         (None, 256)               0         \n",
      "_________________________________________________________________\n",
      "dense_134 (Dense)            (None, 3)                 771       \n",
      "=================================================================\n",
      "Total params: 27,695,427\n",
      "Trainable params: 12,979,203\n",
      "Non-trainable params: 14,716,224\n",
      "_________________________________________________________________\n"
     ]
    }
   ],
   "source": [
    "# Modelo con las features extraidas\n",
    "\n",
    "inputS = vgg_model2.output_shape[1]\n",
    "\n",
    "model = Sequential()\n",
    "model.add(vgg_model2)\n",
    "model.add(Dense(512, activation='relu', input_dim=inputS, kernel_regularizer=l1_l2(l1=0.001, l2=0.003)))\n",
    "model.add(BatchNormalization())\n",
    "model.add(Dropout(0.4))\n",
    "model.add(Dense(256, activation='relu', kernel_regularizer=l1_l2(l1=0.001, l2=0.003)))\n",
    "model.add(BatchNormalization())\n",
    "model.add(Dropout(0.3))\n",
    "model.add(Dense(3, activation='softmax'))\n",
    "\n",
    "model.compile(optimizer='Adam', loss='categorical_crossentropy', metrics=['accuracy'])\n",
    "\n",
    "model.summary()"
   ]
  },
  {
   "cell_type": "code",
   "execution_count": 342,
   "metadata": {},
   "outputs": [
    {
     "name": "stdout",
     "output_type": "stream",
     "text": [
      "Epoch 1/10\n",
      "38/38 [==============================] - 1516s 40s/step - loss: 52.5804 - accuracy: 0.7829 - val_loss: 26.3713 - val_accuracy: 0.6600\n",
      "Epoch 2/10\n",
      "38/38 [==============================] - 1554s 41s/step - loss: 16.4855 - accuracy: 0.8433 - val_loss: 13.3975 - val_accuracy: 0.7400\n",
      "Epoch 3/10\n",
      "38/38 [==============================] - 1496s 39s/step - loss: 11.5865 - accuracy: 0.8233 - val_loss: 11.7729 - val_accuracy: 0.7967\n",
      "Epoch 4/10\n",
      "38/38 [==============================] - 1404s 37s/step - loss: 10.2676 - accuracy: 0.8375 - val_loss: 10.3187 - val_accuracy: 0.6233\n",
      "Epoch 5/10\n",
      "38/38 [==============================] - 1562s 41s/step - loss: 9.4210 - accuracy: 0.8213 - val_loss: 10.1539 - val_accuracy: 0.5100\n",
      "Epoch 6/10\n",
      "38/38 [==============================] - 1486s 39s/step - loss: 8.6195 - accuracy: 0.8379 - val_loss: 8.2825 - val_accuracy: 0.8067\n",
      "Epoch 7/10\n",
      "38/38 [==============================] - 1487s 39s/step - loss: 7.8164 - accuracy: 0.8396 - val_loss: 7.8389 - val_accuracy: 0.7767\n",
      "Epoch 8/10\n",
      "38/38 [==============================] - 1479s 39s/step - loss: 8.0091 - accuracy: 0.8371 - val_loss: 9.1044 - val_accuracy: 0.4900\n",
      "Epoch 9/10\n",
      "38/38 [==============================] - 1473s 39s/step - loss: 7.3415 - accuracy: 0.8487 - val_loss: 8.0424 - val_accuracy: 0.7833\n",
      "Epoch 10/10\n",
      "38/38 [==============================] - 1464s 39s/step - loss: 7.5834 - accuracy: 0.8292 - val_loss: 9.6090 - val_accuracy: 0.5800\n"
     ]
    },
    {
     "data": {
      "image/png": "[encoded data removed]",
      "text/plain": [
       "<Figure size 432x288 with 1 Axes>"
      ]
     },
     "metadata": {
      "needs_background": "light"
     },
     "output_type": "display_data"
    },
    {
     "data": {
      "image/png": "[encoded data removed]",
      "text/plain": [
       "<Figure size 432x288 with 1 Axes>"
      ]
     },
     "metadata": {
      "needs_background": "light"
     },
     "output_type": "display_data"
    }
   ],
   "source": [
    "history6 = model.fit_generator(generator= train_set, \n",
    "                          epochs= 10, \n",
    "                          validation_data= validation_set)\n",
    "\n",
    "plt.plot(history6.history['accuracy'])\n",
    "plt.plot(history6.history['val_accuracy'])\n",
    "plt.title('model accuracy')\n",
    "plt.ylabel('accuracy')\n",
    "plt.xlabel('epoch')\n",
    "plt.legend(['train', 'validation'], loc='upper left')\n",
    "plt.show()\n",
    "\n",
    "plt.plot(history6.history['loss'])\n",
    "plt.plot(history6.history['val_loss'])\n",
    "plt.title('model loss')\n",
    "plt.ylabel('loss')\n",
    "plt.xlabel('epoch')\n",
    "plt.legend(['train', 'validation'], loc='upper left')\n",
    "plt.show()"
   ]
  },
  {
   "cell_type": "code",
   "execution_count": 346,
   "metadata": {},
   "outputs": [
    {
     "name": "stdout",
     "output_type": "stream",
     "text": [
      "38/38 [==============================] - 1197s 32s/step\n"
     ]
    },
    {
     "data": {
      "text/plain": [
       "[8.777352333068848, 0.5358333587646484]"
      ]
     },
     "execution_count": 346,
     "metadata": {},
     "output_type": "execute_result"
    }
   ],
   "source": [
    "model.evaluate(train_set)"
   ]
  },
  {
   "cell_type": "code",
   "execution_count": 347,
   "metadata": {},
   "outputs": [
    {
     "name": "stdout",
     "output_type": "stream",
     "text": [
      "10/10 [==============================] - 162s 16s/step\n"
     ]
    },
    {
     "data": {
      "text/plain": [
       "[8.583549499511719, 0.5799999833106995]"
      ]
     },
     "execution_count": 347,
     "metadata": {},
     "output_type": "execute_result"
    }
   ],
   "source": [
    "model.evaluate(validation_set)"
   ]
  },
  {
   "cell_type": "markdown",
   "metadata": {},
   "source": [
    "## Checkpoints\n",
    "\n",
    "Anteriormente se habia aplicado un checkpoint y earlystopping como callbacks del modelo"
   ]
  },
  {
   "cell_type": "markdown",
   "metadata": {},
   "source": [
    "## Cargando el Checkpoint"
   ]
  },
  {
   "cell_type": "code",
   "execution_count": 568,
   "metadata": {},
   "outputs": [],
   "source": [
    "model.load_weights(\"Checkpoint.hdf5\")"
   ]
  },
  {
   "cell_type": "code",
   "execution_count": 571,
   "metadata": {},
   "outputs": [
    {
     "name": "stdout",
     "output_type": "stream",
     "text": [
      "1/1 [==============================] - 5s 5s/step\n"
     ]
    },
    {
     "data": {
      "text/plain": [
       "[0.35356342792510986, 0.9166666865348816]"
      ]
     },
     "execution_count": 571,
     "metadata": {},
     "output_type": "execute_result"
    }
   ],
   "source": [
    "model.evaluate(validation_set)"
   ]
  },
  {
   "cell_type": "markdown",
   "metadata": {},
   "source": [
    "# Conclusiones"
   ]
  },
  {
   "cell_type": "markdown",
   "metadata": {},
   "source": [
    "Para la red neuronal del tipo Convolucional se eligió trabajar con un problema de clasificación con imágenes de mini figuras de Lego.\n",
    "\n",
    "Dado que el dataset con el que se contaba era considerablemente muy pequeño se decidió desde el inicio hacer transfer learning con el modelo VGG16, ya que de esta forma se usaría esta arquitectura como extractor de características para realizar la clasificación. También se aplicó data augmentation para compensar el tamaño del dataset a trabajar.\n",
    "\n",
    "Se trabajo con un modelo dejando la parte convolucional perteneciente a VGG16 y se probó con algunas configuraciones de la red fully connected. Dado que los primeros presentaban overfitting se decidió eliminar las capas ocultas de la red densa y conectar la salida convolucional de VGG16 con dropout y posterior a la capa de salida con softmax.\n",
    "\n",
    "Al realizar esto, se pasó de tener 14,815,044 de parámetros entrenables a únicamente 100,356 y con lo cual se combatió en buena medida el overfitting. Puede verse como simplificando el modelo puede ayudar a mejorar el desempeño para datos no vistos por el mismo.\n",
    "\n",
    "En la parte de métricas, para el dataset de validación se obtuvo un accuracy de 91%, mientras que en el de test alrededor de 73%. Estos resultados son aceptables considerando el tamaño del dataset, aunque también se aumentó la data al hacer variaciones en las imágenes con DataGenerator.\n",
    "\n",
    "En cuanto al checkpoint, dado que se utilizó un modelo Sequential en Keras se puede hacer uso de la función ModelCheckpoint y se puede especificar si se requiere guardar únicamente los parámetros cuando hay una mejora en una métrica como en la de Accuracy o en la función de costo con el parámetro Loss, lo que fue empleado en el ejemplo. Luego se pasa el checkpoint como parámetro a la función fit para que se genere el checkpoint durante el entrenamiento.\n",
    "\n",
    "Esto puede ser útil para tener puntos de control durante el entrenamiento por cualquier contingencia, ya que los entrenamientos en redes convolucionales puede tomar bastante tiempo según el tamaño del dataset con que se cuente. Por ejemplo, para un último experimento que se hizo con fotografías de animales se corrió por 10 epochs. Sin embargo, como el dataset era más grande el tiempo de entrenamiento fue significativo, por lo que es altamente recomendable agregar checkpoints o bien early stopping por si no hay mejora en el entrenamiento el mismo pueda detenerse para no perder tiempo en un experimento."
   ]
  }
 ],
 "metadata": {
  "colab": {
   "name": "Clase 9.ipynb",
   "provenance": [],
   "toc_visible": true
  },
  "kernelspec": {
   "display_name": "Python 3",
   "language": "python",
   "name": "python3"
  },
  "language_info": {
   "codemirror_mode": {
    "name": "ipython",
    "version": 3
   },
   "file_extension": ".py",
   "mimetype": "text/x-python",
   "name": "python",
   "nbconvert_exporter": "python",
   "pygments_lexer": "ipython3",
   "version": "3.7.6"
  }
 },
 "nbformat": 4,
 "nbformat_minor": 4
}
