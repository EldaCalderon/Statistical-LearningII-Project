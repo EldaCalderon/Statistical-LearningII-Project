{
 "cells": [
  {
   "cell_type": "markdown",
   "metadata": {},
   "source": [
    "### **Nombre:** Elda Magally Calderón Motta\n",
    "### **Carné:** 16003182\n",
    "### **Sección:** Virtual"
   ]
  },
  {
   "cell_type": "markdown",
   "metadata": {},
   "source": [
    "# Proyecto Final Statistical Learning II"
   ]
  },
  {
   "cell_type": "code",
   "execution_count": 2,
   "metadata": {},
   "outputs": [],
   "source": [
    "import tensorflow as tf\n",
    "from tensorflow import keras\n",
    "\n",
    "import numpy as np\n",
    "import matplotlib.pyplot as plt"
   ]
  },
  {
   "cell_type": "code",
   "execution_count": 3,
   "metadata": {},
   "outputs": [],
   "source": [
    "if tf.__version__.startswith(\"2.\"):\n",
    "  import tensorflow.compat.v1 as tf\n",
    "  tf.compat.v1.disable_v2_behavior()\n",
    "  tf.compat.v1.disable_eager_execution()"
   ]
  },
  {
   "cell_type": "code",
   "execution_count": 4,
   "metadata": {},
   "outputs": [],
   "source": [
    "import numpy as np\n",
    "import pandas as pd\n",
    "import sklearn as sl\n",
    "from sklearn.model_selection import train_test_split\n",
    "import matplotlib.pyplot as plt\n",
    "from sklearn.metrics import accuracy_score\n",
    "from sklearn.metrics import precision_score\n",
    "from sklearn.metrics import recall_score\n",
    "from sklearn.metrics import f1_score\n",
    "from sklearn.metrics import balanced_accuracy_score\n",
    "from sklearn import svm\n",
    "from sklearn.metrics import classification_report, confusion_matrix\n",
    "from PIL import Image\n",
    "from scipy import stats"
   ]
  },
  {
   "cell_type": "markdown",
   "metadata": {},
   "source": [
    "# Tercera Parte - Recurrent Network"
   ]
  },
  {
   "cell_type": "code",
   "execution_count": 6,
   "metadata": {
    "colab": {},
    "colab_type": "code",
    "id": "uiDv5JTDy3d5"
   },
   "outputs": [],
   "source": [
    "from keras.models import Sequential\n",
    "from keras.models import Model\n",
    "from keras.layers import Dense \n",
    "from keras.layers import Bidirectional\n",
    "from keras.layers import Conv1D\n",
    "from keras.layers import MaxPool1D\n",
    "from keras.layers import Flatten\n",
    "from keras.layers import Dropout, InputLayer, Layer, GlobalAveragePooling1D, Activation\n",
    "from keras.optimizers import Adam\n",
    "from tensorflow.keras import regularizers, constraints\n",
    "from keras.layers.normalization import BatchNormalization\n",
    "from keras.regularizers import l2, l1, l1_l2\n",
    "from tensorflow.python.keras import models, layers, optimizers\n",
    "from tensorflow.keras.preprocessing.text import Tokenizer, text_to_word_sequence\n",
    "from tensorflow.keras.preprocessing.sequence import pad_sequences\n",
    "import re\n",
    "from keras.layers import Embedding, LSTM, SpatialDropout1D, Input, GlobalMaxPool1D, concatenate, InputSpec, CuDNNLSTM\n",
    "from sklearn.feature_extraction.text import CountVectorizer\n",
    "from keras.preprocessing.text import Tokenizer\n",
    "from keras.preprocessing.sequence import pad_sequences\n",
    "from keras.utils.np_utils import to_categorical"
   ]
  },
  {
   "cell_type": "markdown",
   "metadata": {},
   "source": [
    "# Planteamiento Inicial\n",
    "\n",
    "El problema a tratar en este experimento es de análisis de sentimientos. El dataset está conformado por reviews de Amazon  y su respectivo rating de estrellas etiquetadas con 1 y 2. La etiqueta 1 corresponde a 1 y 2 estrellas, la etiqueta 2 corresponde a 4 y 5 estrellas. Por lo cual, el análisis de sentimientos estará conformado por dos estados: sentimiento positivo (2) y sentimiento negativo (1). \n",
    "\n",
    "El dataset es de una escala considerablemente grande. Se harán pruebas con los modelos con una porción del dataset dado el tiempo de entrenamiento que requiere si se usa el dataset entero y se verificará el Accuracy resultante. Posterior se elegirá el modelo que genere mejores resultados para entrenarse con el dataset completo.\n",
    "\n",
    "Para esto se utilizarán redes neuronales del tipo RNN para entrenar el modelo y generar las predicciones del tipo de sentimiento según una review como entrada."
   ]
  },
  {
   "cell_type": "markdown",
   "metadata": {},
   "source": [
    "## Carga de Informacion"
   ]
  },
  {
   "cell_type": "code",
   "execution_count": 7,
   "metadata": {},
   "outputs": [],
   "source": [
    "dataTrain = open('train.ft.txt', 'r', encoding='utf-8')"
   ]
  },
  {
   "cell_type": "code",
   "execution_count": 8,
   "metadata": {},
   "outputs": [],
   "source": [
    "dataTest = open('test.ft.txt', 'r', encoding='utf-8')"
   ]
  },
  {
   "cell_type": "code",
   "execution_count": 9,
   "metadata": {},
   "outputs": [],
   "source": [
    "patron = re.compile('^__label__[1|2]') "
   ]
  },
  {
   "cell_type": "code",
   "execution_count": 10,
   "metadata": {},
   "outputs": [],
   "source": [
    "def texto_etiquetas(data):\n",
    "    text1 = []\n",
    "    text2 = []\n",
    "    label = []\n",
    "\n",
    "\n",
    "    for line in data:\n",
    "        text1.append(line)\n",
    "\n",
    "    for i in range(len(text1)):\n",
    "        text2.append(patron.split(text1[i])[1])\n",
    "        label.append(int(patron.findall(text1[i])[0][-1]))\n",
    "    \n",
    "    return(text2, label)"
   ]
  },
  {
   "cell_type": "code",
   "execution_count": 11,
   "metadata": {},
   "outputs": [],
   "source": [
    "trainT, trainL = texto_etiquetas(dataTrain)"
   ]
  },
  {
   "cell_type": "code",
   "execution_count": 12,
   "metadata": {},
   "outputs": [],
   "source": [
    "testT, testL = texto_etiquetas(dataTest)"
   ]
  },
  {
   "cell_type": "markdown",
   "metadata": {},
   "source": [
    "## Normalizacion del Texto"
   ]
  },
  {
   "cell_type": "code",
   "execution_count": 13,
   "metadata": {},
   "outputs": [],
   "source": [
    "def normalizacion(documento):\n",
    "    texto_normal = []\n",
    "    for texto in documento:\n",
    "        texto_normal.append(re.sub(r'[^a-zA-Z0-9\\s]', ' ', texto).lower().strip().rstrip('\\n').rstrip('\\r\\n'))\n",
    "    \n",
    "    return(texto_normal)"
   ]
  },
  {
   "cell_type": "code",
   "execution_count": 14,
   "metadata": {},
   "outputs": [],
   "source": [
    "trainT = normalizacion(trainT)"
   ]
  },
  {
   "cell_type": "code",
   "execution_count": 15,
   "metadata": {},
   "outputs": [],
   "source": [
    "testT = normalizacion(testT)"
   ]
  },
  {
   "cell_type": "markdown",
   "metadata": {},
   "source": [
    "## Separacion Datasets"
   ]
  },
  {
   "cell_type": "code",
   "execution_count": 16,
   "metadata": {},
   "outputs": [],
   "source": [
    "trainT, validationT, trainL, validationL = train_test_split(trainT, trainL, test_size=0.10, shuffle=True)"
   ]
  },
  {
   "cell_type": "markdown",
   "metadata": {},
   "source": [
    "## Procesamiento de Datos"
   ]
  },
  {
   "cell_type": "markdown",
   "metadata": {},
   "source": [
    "### Tokenizacion"
   ]
  },
  {
   "cell_type": "code",
   "execution_count": 17,
   "metadata": {},
   "outputs": [],
   "source": [
    "maximo = 10000\n",
    "tokenizer = Tokenizer(num_words=maximo)\n",
    "tokenizer.fit_on_texts(trainT)\n",
    "train_text = tokenizer.texts_to_sequences(trainT)\n",
    "val_text = tokenizer.texts_to_sequences(validationT)\n",
    "test_text = tokenizer.texts_to_sequences(testT)"
   ]
  },
  {
   "cell_type": "markdown",
   "metadata": {},
   "source": [
    "### Padding "
   ]
  },
  {
   "cell_type": "code",
   "execution_count": 18,
   "metadata": {},
   "outputs": [],
   "source": [
    "# Se tomará como referencia del padding la review más larga en el dataset Train\n",
    "\n",
    "max_lenght = max(len(train_ex) for train_ex in train_text)"
   ]
  },
  {
   "cell_type": "code",
   "execution_count": 19,
   "metadata": {},
   "outputs": [],
   "source": [
    "train_texts = pad_sequences(train_text, maxlen=max_lenght)\n",
    "val_texts = pad_sequences(val_text, maxlen=max_lenght)\n",
    "test_texts = pad_sequences(test_text, maxlen=max_lenght)"
   ]
  },
  {
   "cell_type": "markdown",
   "metadata": {},
   "source": [
    "### Cambiando Etiquetas a 0 y 1"
   ]
  },
  {
   "cell_type": "code",
   "execution_count": 20,
   "metadata": {},
   "outputs": [],
   "source": [
    "# Cambiando etiqueta 2 por 0\n",
    "for i in range(len(validationL)):\n",
    "    if validationL[i] == 2:\n",
    "        validationL[i] = 0\n",
    "        \n",
    "for i in range(len(testL)):\n",
    "    if testL[i] == 2:\n",
    "        testL[i] = 0\n",
    "        \n",
    "for i in range(len(trainL)):\n",
    "    if trainL[i] == 2:\n",
    "        trainL[i] = 0"
   ]
  },
  {
   "cell_type": "markdown",
   "metadata": {},
   "source": [
    "## Construccion del Modelo"
   ]
  },
  {
   "cell_type": "markdown",
   "metadata": {},
   "source": [
    "### Modelo 1"
   ]
  },
  {
   "cell_type": "code",
   "execution_count": 23,
   "metadata": {},
   "outputs": [
    {
     "name": "stdout",
     "output_type": "stream",
     "text": [
      "Model: \"sequential_3\"\n",
      "_________________________________________________________________\n",
      "Layer (type)                 Output Shape              Param #   \n",
      "=================================================================\n",
      "embedding_3 (Embedding)      (None, 254, 64)           640000    \n",
      "_________________________________________________________________\n",
      "conv1d_3 (Conv1D)            (None, 253, 32)           4128      \n",
      "_________________________________________________________________\n",
      "batch_normalization_3 (Batch (None, 253, 32)           128       \n",
      "_________________________________________________________________\n",
      "max_pooling1d_3 (MaxPooling1 (None, 84, 32)            0         \n",
      "_________________________________________________________________\n",
      "flatten_3 (Flatten)          (None, 2688)              0         \n",
      "_________________________________________________________________\n",
      "dense_5 (Dense)              (None, 50)                134450    \n",
      "_________________________________________________________________\n",
      "dense_6 (Dense)              (None, 1)                 51        \n",
      "=================================================================\n",
      "Total params: 778,757\n",
      "Trainable params: 778,693\n",
      "Non-trainable params: 64\n",
      "_________________________________________________________________\n"
     ]
    }
   ],
   "source": [
    "model2 = Sequential()\n",
    "model2.add(Embedding(maximo, 64, input_length=max_lenght))\n",
    "model2.add(Conv1D(32, 2, activation='relu'))\n",
    "model2.add(BatchNormalization())\n",
    "model2.add(MaxPool1D(3))\n",
    "model2.add(Flatten())\n",
    "model2.add(Dense(50, activation='relu'))\n",
    "model2.add(Dense(1, activation='sigmoid'))\n",
    "model2.summary()"
   ]
  },
  {
   "cell_type": "code",
   "execution_count": 25,
   "metadata": {},
   "outputs": [],
   "source": [
    "model2.compile(optimizer='Adam',\n",
    "              loss='binary_crossentropy', metrics=['binary_accuracy'])"
   ]
  },
  {
   "cell_type": "code",
   "execution_count": 26,
   "metadata": {},
   "outputs": [],
   "source": [
    "from keras.callbacks import ModelCheckpoint\n",
    "from keras.callbacks import EarlyStopping\n",
    "\n",
    "\n",
    "filepath=\"Checkpoint3.hdf5\"\n",
    "checkpoint = ModelCheckpoint(filepath, monitor='val_binary_accuracy', verbose=1, save_best_only=True, mode='max')\n",
    "callbacks_list = [checkpoint]\n",
    "\n",
    "\n",
    "# checkpoint to stop training if model didn't improve valid loss for 3 epochs\n",
    "callback_early_stopping = EarlyStopping(monitor=\"val_loss\", patience=5)"
   ]
  },
  {
   "cell_type": "code",
   "execution_count": 27,
   "metadata": {},
   "outputs": [
    {
     "name": "stdout",
     "output_type": "stream",
     "text": [
      "WARNING:tensorflow:From C:\\Users\\Elda Calderon\\anaconda3\\lib\\site-packages\\keras\\backend\\tensorflow_backend.py:422: The name tf.global_variables is deprecated. Please use tf.compat.v1.global_variables instead.\n",
      "\n",
      "Train on 20000 samples, validate on 1000 samples\n",
      "Epoch 1/2\n",
      "20000/20000 [==============================] - 29s 1ms/step - loss: 0.4778 - binary_accuracy: 0.7484 - val_loss: 0.6097 - val_binary_accuracy: 0.8100\n",
      "\n",
      "Epoch 00001: val_binary_accuracy improved from -inf to 0.81000, saving model to Checkpoint3.hdf5\n",
      "Epoch 2/2\n",
      "20000/20000 [==============================] - 26s 1ms/step - loss: 0.1736 - binary_accuracy: 0.9370 - val_loss: 0.5194 - val_binary_accuracy: 0.7780\n",
      "\n",
      "Epoch 00002: val_binary_accuracy did not improve from 0.81000\n"
     ]
    }
   ],
   "source": [
    "history2 = model2.fit(train_texts[0:20000], trainL[0:20000], \n",
    "                    batch_size=128, epochs=2, \n",
    "                    validation_data=(val_texts[0:1000], validationL[0:1000]),\n",
    "                    callbacks=callbacks_list)"
   ]
  },
  {
   "cell_type": "code",
   "execution_count": 29,
   "metadata": {},
   "outputs": [
    {
     "data": {
      "image/png": "[encoded data removed]",
      "text/plain": [
       "<Figure size 432x288 with 1 Axes>"
      ]
     },
     "metadata": {
      "needs_background": "light"
     },
     "output_type": "display_data"
    },
    {
     "data": {
      "image/png": "[encoded data removed]",
      "text/plain": [
       "<Figure size 432x288 with 1 Axes>"
      ]
     },
     "metadata": {
      "needs_background": "light"
     },
     "output_type": "display_data"
    }
   ],
   "source": [
    "plt.plot(history2.history['binary_accuracy'])\n",
    "plt.plot(history2.history['val_binary_accuracy'])\n",
    "plt.title('model accuracy')\n",
    "plt.ylabel('accuracy')\n",
    "plt.xlabel('epoch')\n",
    "plt.legend(['train', 'validation'], loc='upper left')\n",
    "plt.show()\n",
    "\n",
    "plt.plot(history2.history['loss'])\n",
    "plt.plot(history2.history['val_loss'])\n",
    "plt.title('model loss')\n",
    "plt.ylabel('loss')\n",
    "plt.xlabel('epoch')\n",
    "plt.legend(['train', 'validation'], loc='upper left')\n",
    "plt.show()"
   ]
  },
  {
   "cell_type": "markdown",
   "metadata": {},
   "source": [
    "### Modelo 2"
   ]
  },
  {
   "cell_type": "code",
   "execution_count": 30,
   "metadata": {},
   "outputs": [
    {
     "name": "stdout",
     "output_type": "stream",
     "text": [
      "Model: \"sequential_4\"\n",
      "_________________________________________________________________\n",
      "Layer (type)                 Output Shape              Param #   \n",
      "=================================================================\n",
      "embedding_4 (Embedding)      (None, 254, 64)           640000    \n",
      "_________________________________________________________________\n",
      "conv1d_4 (Conv1D)            (None, 253, 32)           4128      \n",
      "_________________________________________________________________\n",
      "batch_normalization_4 (Batch (None, 253, 32)           128       \n",
      "_________________________________________________________________\n",
      "max_pooling1d_4 (MaxPooling1 (None, 84, 32)            0         \n",
      "_________________________________________________________________\n",
      "flatten_4 (Flatten)          (None, 2688)              0         \n",
      "_________________________________________________________________\n",
      "dense_7 (Dense)              (None, 50)                134450    \n",
      "_________________________________________________________________\n",
      "dense_8 (Dense)              (None, 1)                 51        \n",
      "=================================================================\n",
      "Total params: 778,757\n",
      "Trainable params: 778,693\n",
      "Non-trainable params: 64\n",
      "_________________________________________________________________\n"
     ]
    }
   ],
   "source": [
    "model3 = Sequential()\n",
    "model3.add(Embedding(maximo, 64, input_length=max_lenght))\n",
    "model3.add(Conv1D(32, 2, activation='relu'))\n",
    "model3.add(BatchNormalization())\n",
    "model3.add(MaxPool1D(3))\n",
    "model3.add(Flatten())\n",
    "model3.add(Dense(50, activation='relu'))\n",
    "model3.add(Dense(1, activation='sigmoid'))\n",
    "model3.summary()"
   ]
  },
  {
   "cell_type": "code",
   "execution_count": 31,
   "metadata": {},
   "outputs": [],
   "source": [
    "model3.compile(optimizer='RMSprop',\n",
    "              loss='binary_crossentropy', metrics=['binary_accuracy'])"
   ]
  },
  {
   "cell_type": "code",
   "execution_count": 32,
   "metadata": {},
   "outputs": [
    {
     "name": "stdout",
     "output_type": "stream",
     "text": [
      "Train on 50000 samples, validate on 1000 samples\n",
      "Epoch 1/2\n",
      "50000/50000 [==============================] - 51s 1ms/step - loss: 0.3875 - binary_accuracy: 0.8132 - val_loss: 0.4339 - val_binary_accuracy: 0.8840\n",
      "\n",
      "Epoch 00001: val_binary_accuracy improved from 0.81000 to 0.88400, saving model to Checkpoint3.hdf5\n",
      "Epoch 2/2\n",
      "50000/50000 [==============================] - 73s 1ms/step - loss: 0.2032 - binary_accuracy: 0.9225 - val_loss: 0.3704 - val_binary_accuracy: 0.8490\n",
      "\n",
      "Epoch 00002: val_binary_accuracy did not improve from 0.88400\n"
     ]
    }
   ],
   "source": [
    "history3 = model3.fit(train_texts[0:50000], trainL[0:50000], \n",
    "                    batch_size=128, epochs=2, \n",
    "                    validation_data=(val_texts[0:1000], validationL[0:1000]),\n",
    "                    callbacks=callbacks_list)"
   ]
  },
  {
   "cell_type": "code",
   "execution_count": 33,
   "metadata": {},
   "outputs": [
    {
     "data": {
      "image/png": "[encoded data removed]",
      "text/plain": [
       "<Figure size 432x288 with 1 Axes>"
      ]
     },
     "metadata": {
      "needs_background": "light"
     },
     "output_type": "display_data"
    },
    {
     "data": {
      "image/png": "[encoded data removed]",
      "text/plain": [
       "<Figure size 432x288 with 1 Axes>"
      ]
     },
     "metadata": {
      "needs_background": "light"
     },
     "output_type": "display_data"
    }
   ],
   "source": [
    "plt.plot(history3.history['binary_accuracy'])\n",
    "plt.plot(history3.history['val_binary_accuracy'])\n",
    "plt.title('model accuracy')\n",
    "plt.ylabel('accuracy')\n",
    "plt.xlabel('epoch')\n",
    "plt.legend(['train', 'validation'], loc='upper left')\n",
    "plt.show()\n",
    "\n",
    "plt.plot(history3.history['loss'])\n",
    "plt.plot(history3.history['val_loss'])\n",
    "plt.title('model loss')\n",
    "plt.ylabel('loss')\n",
    "plt.xlabel('epoch')\n",
    "plt.legend(['train', 'validation'], loc='upper left')\n",
    "plt.show()"
   ]
  },
  {
   "cell_type": "markdown",
   "metadata": {},
   "source": [
    "### Modelo 3"
   ]
  },
  {
   "cell_type": "code",
   "execution_count": 34,
   "metadata": {},
   "outputs": [
    {
     "name": "stdout",
     "output_type": "stream",
     "text": [
      "Model: \"sequential_5\"\n",
      "_________________________________________________________________\n",
      "Layer (type)                 Output Shape              Param #   \n",
      "=================================================================\n",
      "embedding_5 (Embedding)      (None, 254, 128)          1280000   \n",
      "_________________________________________________________________\n",
      "conv1d_5 (Conv1D)            (None, 253, 64)           16448     \n",
      "_________________________________________________________________\n",
      "batch_normalization_5 (Batch (None, 253, 64)           256       \n",
      "_________________________________________________________________\n",
      "max_pooling1d_5 (MaxPooling1 (None, 84, 64)            0         \n",
      "_________________________________________________________________\n",
      "conv1d_6 (Conv1D)            (None, 80, 64)            20544     \n",
      "_________________________________________________________________\n",
      "batch_normalization_6 (Batch (None, 80, 64)            256       \n",
      "_________________________________________________________________\n",
      "max_pooling1d_6 (MaxPooling1 (None, 26, 64)            0         \n",
      "_________________________________________________________________\n",
      "conv1d_7 (Conv1D)            (None, 22, 64)            20544     \n",
      "_________________________________________________________________\n",
      "flatten_5 (Flatten)          (None, 1408)              0         \n",
      "_________________________________________________________________\n",
      "dense_9 (Dense)              (None, 100)               140900    \n",
      "_________________________________________________________________\n",
      "dense_10 (Dense)             (None, 1)                 101       \n",
      "=================================================================\n",
      "Total params: 1,479,049\n",
      "Trainable params: 1,478,793\n",
      "Non-trainable params: 256\n",
      "_________________________________________________________________\n"
     ]
    }
   ],
   "source": [
    "model4 = Sequential()\n",
    "model4.add(Embedding(maximo, 128, input_length=max_lenght))\n",
    "model4.add(Conv1D(64, 2, activation='relu'))\n",
    "model4.add(BatchNormalization())\n",
    "model4.add(MaxPool1D(3))\n",
    "model4.add(Conv1D(64, 5, activation='relu'))\n",
    "model4.add(BatchNormalization())\n",
    "model4.add(MaxPool1D(3))\n",
    "model4.add(Conv1D(64, 5, activation='relu'))\n",
    "model4.add(Flatten())\n",
    "model4.add(Dense(100, activation='relu'))\n",
    "model4.add(Dense(1, activation='sigmoid'))\n",
    "model4.summary()"
   ]
  },
  {
   "cell_type": "code",
   "execution_count": 35,
   "metadata": {},
   "outputs": [],
   "source": [
    "model4.compile(optimizer='RMSprop',\n",
    "              loss='binary_crossentropy', metrics=['binary_accuracy'])"
   ]
  },
  {
   "cell_type": "code",
   "execution_count": 36,
   "metadata": {},
   "outputs": [
    {
     "name": "stdout",
     "output_type": "stream",
     "text": [
      "Train on 50000 samples, validate on 1000 samples\n",
      "Epoch 1/2\n",
      "50000/50000 [==============================] - 194s 4ms/step - loss: 0.3960 - binary_accuracy: 0.8148 - val_loss: 0.4429 - val_binary_accuracy: 0.7650\n",
      "\n",
      "Epoch 00001: val_binary_accuracy did not improve from 0.88400\n",
      "Epoch 2/2\n",
      "50000/50000 [==============================] - 202s 4ms/step - loss: 0.2030 - binary_accuracy: 0.9214 - val_loss: 0.2726 - val_binary_accuracy: 0.8910\n",
      "\n",
      "Epoch 00002: val_binary_accuracy improved from 0.88400 to 0.89100, saving model to Checkpoint3.hdf5\n"
     ]
    }
   ],
   "source": [
    "history4 = model4.fit(train_texts[0:50000], trainL[0:50000], \n",
    "                    batch_size=128, epochs=2, \n",
    "                    validation_data=(val_texts[0:1000], validationL[0:1000]),\n",
    "                    callbacks=callbacks_list)"
   ]
  },
  {
   "cell_type": "code",
   "execution_count": 37,
   "metadata": {},
   "outputs": [
    {
     "data": {
      "image/png": "[encoded data removed]",
      "text/plain": [
       "<Figure size 432x288 with 1 Axes>"
      ]
     },
     "metadata": {
      "needs_background": "light"
     },
     "output_type": "display_data"
    },
    {
     "data": {
      "image/png": "[encoded data removed]",
      "text/plain": [
       "<Figure size 432x288 with 1 Axes>"
      ]
     },
     "metadata": {
      "needs_background": "light"
     },
     "output_type": "display_data"
    }
   ],
   "source": [
    "plt.plot(history4.history['binary_accuracy'])\n",
    "plt.plot(history4.history['val_binary_accuracy'])\n",
    "plt.title('model accuracy')\n",
    "plt.ylabel('accuracy')\n",
    "plt.xlabel('epoch')\n",
    "plt.legend(['train', 'validation'], loc='upper left')\n",
    "plt.show()\n",
    "\n",
    "plt.plot(history4.history['loss'])\n",
    "plt.plot(history4.history['val_loss'])\n",
    "plt.title('model loss')\n",
    "plt.ylabel('loss')\n",
    "plt.xlabel('epoch')\n",
    "plt.legend(['train', 'validation'], loc='upper left')\n",
    "plt.show()"
   ]
  },
  {
   "cell_type": "markdown",
   "metadata": {},
   "source": [
    "### Modelo 4"
   ]
  },
  {
   "cell_type": "code",
   "execution_count": 42,
   "metadata": {},
   "outputs": [
    {
     "name": "stdout",
     "output_type": "stream",
     "text": [
      "Model: \"sequential_7\"\n",
      "_________________________________________________________________\n",
      "Layer (type)                 Output Shape              Param #   \n",
      "=================================================================\n",
      "embedding_7 (Embedding)      (None, 254, 128)          1280000   \n",
      "_________________________________________________________________\n",
      "conv1d_11 (Conv1D)           (None, 253, 64)           16448     \n",
      "_________________________________________________________________\n",
      "batch_normalization_9 (Batch (None, 253, 64)           256       \n",
      "_________________________________________________________________\n",
      "max_pooling1d_9 (MaxPooling1 (None, 84, 64)            0         \n",
      "_________________________________________________________________\n",
      "conv1d_12 (Conv1D)           (None, 80, 64)            20544     \n",
      "_________________________________________________________________\n",
      "batch_normalization_10 (Batc (None, 80, 64)            256       \n",
      "_________________________________________________________________\n",
      "max_pooling1d_10 (MaxPooling (None, 26, 64)            0         \n",
      "_________________________________________________________________\n",
      "conv1d_13 (Conv1D)           (None, 22, 64)            20544     \n",
      "_________________________________________________________________\n",
      "flatten_7 (Flatten)          (None, 1408)              0         \n",
      "_________________________________________________________________\n",
      "dense_12 (Dense)             (None, 1)                 1409      \n",
      "=================================================================\n",
      "Total params: 1,339,457\n",
      "Trainable params: 1,339,201\n",
      "Non-trainable params: 256\n",
      "_________________________________________________________________\n"
     ]
    }
   ],
   "source": [
    "model5 = Sequential()\n",
    "model5.add(Embedding(maximo, 128, input_length=max_lenght))\n",
    "model5.add(Conv1D(64, 2, activation='relu'))\n",
    "model5.add(BatchNormalization())\n",
    "model5.add(MaxPool1D(3))\n",
    "model5.add(Conv1D(64, 5, activation='relu'))\n",
    "model5.add(BatchNormalization())\n",
    "model5.add(MaxPool1D(3))\n",
    "model5.add(Conv1D(64, 5, activation='relu'))\n",
    "model5.add(Flatten())\n",
    "model5.add(Dense(1, activation='sigmoid'))\n",
    "model5.summary()"
   ]
  },
  {
   "cell_type": "code",
   "execution_count": 43,
   "metadata": {},
   "outputs": [],
   "source": [
    "model5.compile(optimizer='RMSprop',\n",
    "              loss='binary_crossentropy', metrics=['binary_accuracy'])"
   ]
  },
  {
   "cell_type": "code",
   "execution_count": 44,
   "metadata": {},
   "outputs": [
    {
     "name": "stdout",
     "output_type": "stream",
     "text": [
      "Train on 50000 samples, validate on 1000 samples\n",
      "Epoch 1/2\n",
      "50000/50000 [==============================] - 169s 3ms/step - loss: 0.3907 - binary_accuracy: 0.8125 - val_loss: 0.5367 - val_binary_accuracy: 0.6770\n",
      "\n",
      "Epoch 00001: val_binary_accuracy did not improve from 0.89100\n",
      "Epoch 2/2\n",
      "50000/50000 [==============================] - 192s 4ms/step - loss: 0.1974 - binary_accuracy: 0.9233 - val_loss: 0.3899 - val_binary_accuracy: 0.8600\n",
      "\n",
      "Epoch 00002: val_binary_accuracy did not improve from 0.89100\n"
     ]
    }
   ],
   "source": [
    "history5 = model5.fit(train_texts[0:50000], trainL[0:50000], \n",
    "                    batch_size=128, epochs=2, \n",
    "                    validation_data=(val_texts[0:1000], validationL[0:1000]),\n",
    "                    callbacks=callbacks_list)"
   ]
  },
  {
   "cell_type": "code",
   "execution_count": 45,
   "metadata": {},
   "outputs": [
    {
     "data": {
      "image/png": "[encoded data removed]",
      "text/plain": [
       "<Figure size 432x288 with 1 Axes>"
      ]
     },
     "metadata": {
      "needs_background": "light"
     },
     "output_type": "display_data"
    },
    {
     "data": {
      "image/png": "[encoded data removed]",
      "text/plain": [
       "<Figure size 432x288 with 1 Axes>"
      ]
     },
     "metadata": {
      "needs_background": "light"
     },
     "output_type": "display_data"
    }
   ],
   "source": [
    "plt.plot(history5.history['binary_accuracy'])\n",
    "plt.plot(history5.history['val_binary_accuracy'])\n",
    "plt.title('model accuracy')\n",
    "plt.ylabel('accuracy')\n",
    "plt.xlabel('epoch')\n",
    "plt.legend(['train', 'validation'], loc='upper left')\n",
    "plt.show()\n",
    "\n",
    "plt.plot(history5.history['loss'])\n",
    "plt.plot(history5.history['val_loss'])\n",
    "plt.title('model loss')\n",
    "plt.ylabel('loss')\n",
    "plt.xlabel('epoch')\n",
    "plt.legend(['train', 'validation'], loc='upper left')\n",
    "plt.show()"
   ]
  },
  {
   "cell_type": "markdown",
   "metadata": {},
   "source": [
    "Luego de probar algunas arquitecturas de redes neuronales recurrentes puede verse que la última que tiene una capa de embedding, 3 convolucionales, 2 maxpool y 1 densa antes de la salida tiene un buen comportamiento tanto para datos de entrenamiento como validación. Por lo cual se escogerá esta modelo para entrenar la red neuronal con el dataset completo de train y evaluar con el de validación"
   ]
  },
  {
   "cell_type": "markdown",
   "metadata": {},
   "source": [
    "### Entrenamiento del Modelo Elegido"
   ]
  },
  {
   "cell_type": "code",
   "execution_count": 22,
   "metadata": {},
   "outputs": [],
   "source": [
    "model = Sequential()\n",
    "model.add(Embedding(maximo, 128, input_length=max_lenght))\n",
    "model.add(Conv1D(64, 2, activation='relu'))\n",
    "model.add(BatchNormalization())\n",
    "model.add(MaxPool1D(3))\n",
    "model.add(Conv1D(64, 5, activation='relu'))\n",
    "model.add(BatchNormalization())\n",
    "model.add(MaxPool1D(3))\n",
    "model.add(Conv1D(64, 5, activation='relu'))\n",
    "model.add(Flatten())\n",
    "model.add(Dense(100, activation='relu'))\n",
    "model.add(Dense(1, activation='sigmoid'))"
   ]
  },
  {
   "cell_type": "code",
   "execution_count": 23,
   "metadata": {},
   "outputs": [
    {
     "name": "stdout",
     "output_type": "stream",
     "text": [
      "Model: \"sequential_2\"\n",
      "_________________________________________________________________\n",
      "Layer (type)                 Output Shape              Param #   \n",
      "=================================================================\n",
      "embedding_2 (Embedding)      (None, 254, 128)          1280000   \n",
      "_________________________________________________________________\n",
      "conv1d_4 (Conv1D)            (None, 253, 64)           16448     \n",
      "_________________________________________________________________\n",
      "batch_normalization_3 (Batch (None, 253, 64)           256       \n",
      "_________________________________________________________________\n",
      "max_pooling1d_3 (MaxPooling1 (None, 84, 64)            0         \n",
      "_________________________________________________________________\n",
      "conv1d_5 (Conv1D)            (None, 80, 64)            20544     \n",
      "_________________________________________________________________\n",
      "batch_normalization_4 (Batch (None, 80, 64)            256       \n",
      "_________________________________________________________________\n",
      "max_pooling1d_4 (MaxPooling1 (None, 26, 64)            0         \n",
      "_________________________________________________________________\n",
      "conv1d_6 (Conv1D)            (None, 22, 64)            20544     \n",
      "_________________________________________________________________\n",
      "flatten_2 (Flatten)          (None, 1408)              0         \n",
      "_________________________________________________________________\n",
      "dense_3 (Dense)              (None, 100)               140900    \n",
      "_________________________________________________________________\n",
      "dense_4 (Dense)              (None, 1)                 101       \n",
      "=================================================================\n",
      "Total params: 1,479,049\n",
      "Trainable params: 1,478,793\n",
      "Non-trainable params: 256\n",
      "_________________________________________________________________\n"
     ]
    }
   ],
   "source": [
    "model.summary()"
   ]
  },
  {
   "cell_type": "code",
   "execution_count": 25,
   "metadata": {},
   "outputs": [],
   "source": [
    "model.compile(optimizer='RMSprop',\n",
    "              loss='binary_crossentropy', metrics=['binary_accuracy'])"
   ]
  },
  {
   "cell_type": "code",
   "execution_count": 26,
   "metadata": {},
   "outputs": [],
   "source": [
    "from keras.callbacks import ModelCheckpoint\n",
    "from keras.callbacks import EarlyStopping\n",
    "\n",
    "\n",
    "filepath=\"Checkpoint3.hdf5\"\n",
    "checkpoint = ModelCheckpoint(filepath, monitor='val_binary_accuracy', verbose=1, save_best_only=True, mode='max')\n",
    "callbacks_list = [checkpoint]\n",
    "\n",
    "\n",
    "# checkpoint to stop training if model didn't improve valid loss for 3 epochs\n",
    "callback_early_stopping = EarlyStopping(monitor=\"val_loss\", patience=5)"
   ]
  },
  {
   "cell_type": "code",
   "execution_count": 28,
   "metadata": {},
   "outputs": [
    {
     "name": "stdout",
     "output_type": "stream",
     "text": [
      "Train on 3240000 samples, validate on 360000 samples\n",
      "Epoch 1/2\n",
      "3240000/3240000 [==============================] - 11954s 4ms/step - loss: 0.1802 - binary_accuracy: 0.9312 - val_loss: 0.1607 - val_binary_accuracy: 0.9400\n"
     ]
    },
    {
     "name": "stderr",
     "output_type": "stream",
     "text": [
      "C:\\Users\\Elda Calderon\\anaconda3\\lib\\site-packages\\keras\\callbacks\\callbacks.py:707: RuntimeWarning: Can save best model only with binary_val_accuracy available, skipping.\n",
      "  'skipping.' % (self.monitor), RuntimeWarning)\n"
     ]
    },
    {
     "name": "stdout",
     "output_type": "stream",
     "text": [
      "Epoch 2/2\n",
      "3240000/3240000 [==============================] - 14064s 4ms/step - loss: 0.1624 - binary_accuracy: 0.9396 - val_loss: 0.1564 - val_binary_accuracy: 0.9423\n"
     ]
    }
   ],
   "source": [
    "history = model.fit(train_texts, trainL, \n",
    "                    batch_size=128, epochs=2, \n",
    "                    validation_data=(val_texts, validationL),\n",
    "                    callbacks=callbacks_list)"
   ]
  },
  {
   "cell_type": "code",
   "execution_count": 30,
   "metadata": {},
   "outputs": [
    {
     "data": {
      "image/png": "[encoded data removed]",
      "text/plain": [
       "<Figure size 432x288 with 1 Axes>"
      ]
     },
     "metadata": {
      "needs_background": "light"
     },
     "output_type": "display_data"
    },
    {
     "data": {
      "image/png": "[encoded data removed]",
      "text/plain": [
       "<Figure size 432x288 with 1 Axes>"
      ]
     },
     "metadata": {
      "needs_background": "light"
     },
     "output_type": "display_data"
    }
   ],
   "source": [
    "plt.plot(history.history['binary_accuracy'])\n",
    "plt.plot(history.history['val_binary_accuracy'])\n",
    "plt.title('model accuracy')\n",
    "plt.ylabel('accuracy')\n",
    "plt.xlabel('epoch')\n",
    "plt.legend(['train', 'validation'], loc='upper left')\n",
    "plt.show()\n",
    "\n",
    "plt.plot(history.history['loss'])\n",
    "plt.plot(history.history['val_loss'])\n",
    "plt.title('model loss')\n",
    "plt.ylabel('loss')\n",
    "plt.xlabel('epoch')\n",
    "plt.legend(['train', 'validation'], loc='upper left')\n",
    "plt.show()"
   ]
  },
  {
   "cell_type": "markdown",
   "metadata": {},
   "source": [
    "Con este modelo puede verse que se logró un accuracy alrededor del 93%."
   ]
  },
  {
   "cell_type": "markdown",
   "metadata": {},
   "source": [
    "## Metricas del Modelo"
   ]
  },
  {
   "cell_type": "code",
   "execution_count": 31,
   "metadata": {},
   "outputs": [],
   "source": [
    "from sklearn.metrics import accuracy_score\n",
    "from sklearn.metrics import f1_score\n",
    "from sklearn.metrics import precision_score\n",
    "from sklearn.metrics import confusion_matrix\n",
    "from sklearn.metrics import recall_score"
   ]
  },
  {
   "cell_type": "code",
   "execution_count": 33,
   "metadata": {},
   "outputs": [
    {
     "name": "stdout",
     "output_type": "stream",
     "text": [
      "360000/360000 [==============================] - 412s 1ms/step\n"
     ]
    },
    {
     "data": {
      "text/plain": [
       "[0.15642823199455938, 0.9422944188117981]"
      ]
     },
     "execution_count": 33,
     "metadata": {},
     "output_type": "execute_result"
    }
   ],
   "source": [
    "# Accuracy Validation\n",
    "model.evaluate(val_texts, validationL)"
   ]
  },
  {
   "cell_type": "code",
   "execution_count": 34,
   "metadata": {},
   "outputs": [
    {
     "name": "stdout",
     "output_type": "stream",
     "text": [
      "400000/400000 [==============================] - 475s 1ms/step\n"
     ]
    },
    {
     "data": {
      "text/plain": [
       "[0.15745685988917946, 0.9417750239372253]"
      ]
     },
     "execution_count": 34,
     "metadata": {},
     "output_type": "execute_result"
    }
   ],
   "source": [
    "# Accuracy Test\n",
    "model.evaluate(test_texts, testL)"
   ]
  },
  {
   "cell_type": "code",
   "execution_count": 44,
   "metadata": {},
   "outputs": [],
   "source": [
    "# Prediccion Test\n",
    "predict1 = model.predict_classes(test_texts)"
   ]
  },
  {
   "cell_type": "code",
   "execution_count": 39,
   "metadata": {},
   "outputs": [],
   "source": [
    "# Prediccion Validation\n",
    "predict = model.predict_classes(val_texts)"
   ]
  },
  {
   "cell_type": "code",
   "execution_count": 45,
   "metadata": {},
   "outputs": [
    {
     "name": "stdout",
     "output_type": "stream",
     "text": [
      "Accuracy validation dataset: 0.9422944444444444\n",
      "Accuracy test dataset: 0.941775\n"
     ]
    }
   ],
   "source": [
    "# Accuracy\n",
    "acT = accuracy_score(testL, predict1)\n",
    "acV = accuracy_score(validationL, predict)\n",
    "\n",
    "print('Accuracy validation dataset:', acV)\n",
    "print('Accuracy test dataset:', acT)"
   ]
  },
  {
   "cell_type": "code",
   "execution_count": 47,
   "metadata": {},
   "outputs": [
    {
     "name": "stdout",
     "output_type": "stream",
     "text": [
      "Precision validation dataset: 0.9423406043870086\n",
      "Precision test dataset: 0.9418365213172282\n"
     ]
    }
   ],
   "source": [
    "# Precision\n",
    "precT = precision_score(testL, predict1, average = 'macro')\n",
    "precV = precision_score(validationL, predict, average = 'macro')\n",
    "\n",
    "print('Precision validation dataset:', precV)\n",
    "print('Precision test dataset:', precT)"
   ]
  },
  {
   "cell_type": "code",
   "execution_count": 48,
   "metadata": {},
   "outputs": [
    {
     "name": "stdout",
     "output_type": "stream",
     "text": [
      "Recall validation dataset: 0.942305979776952\n",
      "Recall test dataset: 0.941775\n"
     ]
    }
   ],
   "source": [
    "# Recall\n",
    "recT = recall_score(testL, predict1, average = 'macro')\n",
    "recV = recall_score(validationL, predict, average = 'macro')\n",
    "\n",
    "print('Recall validation dataset:', recV)\n",
    "print('Recall test dataset:', recT)"
   ]
  },
  {
   "cell_type": "code",
   "execution_count": 49,
   "metadata": {},
   "outputs": [
    {
     "name": "stdout",
     "output_type": "stream",
     "text": [
      "F1-Score validation dataset: 0.9422937397851081\n",
      "F1-Score test dataset: 0.9417729731171942\n"
     ]
    }
   ],
   "source": [
    "# F1-Score\n",
    "f1T = f1_score(testL, predict1, average = 'macro')\n",
    "f1V = f1_score(validationL, predict, average = 'macro')\n",
    "\n",
    "print('F1-Score validation dataset:', f1V)\n",
    "print('F1-Score test dataset:', f1T)"
   ]
  },
  {
   "cell_type": "code",
   "execution_count": 50,
   "metadata": {},
   "outputs": [
    {
     "data": {
      "text/plain": [
       "array([[187175,  12825],\n",
       "       [ 10465, 189535]], dtype=int64)"
      ]
     },
     "execution_count": 50,
     "metadata": {},
     "output_type": "execute_result"
    }
   ],
   "source": [
    "# Confusion Matrix Test Dataset\n",
    "confusion_matrix(testL, predict1)"
   ]
  },
  {
   "cell_type": "code",
   "execution_count": 53,
   "metadata": {},
   "outputs": [
    {
     "data": {
      "text/plain": [
       "array([[168984,  11395],\n",
       "       [  9379, 170242]], dtype=int64)"
      ]
     },
     "execution_count": 53,
     "metadata": {},
     "output_type": "execute_result"
    }
   ],
   "source": [
    "# Confusion Matrix Validation Dataset\n",
    "confusion_matrix(validationL, predict)"
   ]
  },
  {
   "cell_type": "markdown",
   "metadata": {},
   "source": [
    "## Checkpoints\n",
    "\n",
    "Anteriormente en los modelos se habia aplicado un checkpoint y earlystopping como callbacks en la parte del entrenamiento"
   ]
  },
  {
   "cell_type": "markdown",
   "metadata": {},
   "source": [
    "## Cargando el Checkpoint"
   ]
  },
  {
   "cell_type": "code",
   "execution_count": 47,
   "metadata": {},
   "outputs": [],
   "source": [
    "model4.load_weights(\"Checkpoint3.hdf5\")"
   ]
  },
  {
   "cell_type": "code",
   "execution_count": 48,
   "metadata": {},
   "outputs": [
    {
     "name": "stdout",
     "output_type": "stream",
     "text": [
      "1000/1000 [==============================] - 1s 1ms/step\n"
     ]
    },
    {
     "data": {
      "text/plain": [
       "[0.27262506091594696, 0.890999972820282]"
      ]
     },
     "execution_count": 48,
     "metadata": {},
     "output_type": "execute_result"
    }
   ],
   "source": [
    "model4.evaluate(val_texts[0:1000], validationL[0:1000])"
   ]
  },
  {
   "cell_type": "markdown",
   "metadata": {},
   "source": [
    "# Conclusiones"
   ]
  },
  {
   "cell_type": "markdown",
   "metadata": {},
   "source": [
    "Para la red neuronal del tipo recurrente se eligió trabajar con un problema de análisis de sentimientos acerca de reviews de Amazon. Las etiquetas de cada review pueden ser del tipo positivo o negativo, por lo que es un problema del tipo binario.\n",
    "\n",
    "Algo importante a hacer en la parte inicial de procesamiento de datos es cambiar las etiquetas, ya que en el dataset por default las mismas estaban establecidas como 1 y 2, pero al trabajar con un modelo binario es necesario que las mismas sean 0 y 1 para que el modelo entrene adecuadamente. Por lo que las etiquetas 2 se cambiaron por cero, pero la interpretabilidad sigue siendo la misma.\n",
    "\n",
    "El dataset con el que se contaba es considerablemente grande, el dataset de entrenamiento cuenta con mas de 3 millones de observaciones, por lo que se decidió hacer el entrenamiento únicamente con la arquitectura de red recurrente elegida ya que se contaba con suficientes datos.\n",
    "\n",
    "Se probó con diferentes arquitecturas de red y como parte de la experimentación se entrenaron en una porción del dataset por cuestión del tiempo de entrenamiento. Luego se eligió el modelo que brindó mejores resultados en el Accuracy en el dataset de validación. \n",
    "\n",
    "La arquitectura final elegida esta estructura de la siguiente forma: capa de embedding, 3 convolucionales, 2 maxpool y 1 densa con activación Relu antes de la salida. La capa de salida dado el tipo binario de problema tiene activación sigmoid.\n",
    "Como optimizador se eligió RMSprop, durante la experimentación se observó que Adam brindó buenos resultados también pero se decidió experimetnar con este optimizador.\n",
    "\n",
    "El entrenamiento para este problema resultó costoso en cuanto al tiempo, ya que cada epoch tomó alrededor de 3 horas. Aquí se puede observar la importancia de los checkpoints, dado que si algo resulta mal durante el entrenamiento se puede utilizar esta herramienta para arrancar el entrenamiento desde un punto oportuno y no desde cero.\n",
    "\n",
    "Como se ha mencionado en las fases anteriores del proyecto, es altamente recomendable colocar checkpoints e incluso early stopping para detener el entrenamiento si no hay una mejora en la métrica de interés.\n",
    "\n",
    "\n",
    "En la parte de métricas el modelo resultó bastante bueno, para el dataset de validación y de test se obtuvo un accuracy de 94%. Otras métricas como f1-score, precision y recall también resultaron alrededor de 94% tanto para el dataset de validación como de test.\n",
    "\n",
    "Por lo tanto se puede esperar que el modelo sea bastante bueno para según una review predecir que tipo es: positiva o negativa."
   ]
  }
 ],
 "metadata": {
  "colab": {
   "name": "Clase 9.ipynb",
   "provenance": [],
   "toc_visible": true
  },
  "kernelspec": {
   "display_name": "Python 3",
   "language": "python",
   "name": "python3"
  },
  "language_info": {
   "codemirror_mode": {
    "name": "ipython",
    "version": 3
   },
   "file_extension": ".py",
   "mimetype": "text/x-python",
   "name": "python",
   "nbconvert_exporter": "python",
   "pygments_lexer": "ipython3",
   "version": "3.7.6"
  }
 },
 "nbformat": 4,
 "nbformat_minor": 4
}
